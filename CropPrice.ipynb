{
  "nbformat": 4,
  "nbformat_minor": 0,
  "metadata": {
    "colab": {
      "name": "CropPrice.ipynb",
      "provenance": [],
      "collapsed_sections": [],
      "authorship_tag": "ABX9TyNRrLnGZ1Qdd70UdkLSYHVr",
      "include_colab_link": true
    },
    "kernelspec": {
      "name": "python3",
      "display_name": "Python 3"
    },
    "language_info": {
      "name": "python"
    }
  },
  "cells": [
    {
      "cell_type": "markdown",
      "metadata": {
        "id": "view-in-github",
        "colab_type": "text"
      },
      "source": [
        "<a href=\"https://colab.research.google.com/github/sarmilasaha123/Project/blob/main/CropPrice.ipynb\" target=\"_parent\"><img src=\"https://colab.research.google.com/assets/colab-badge.svg\" alt=\"Open In Colab\"/></a>"
      ]
    },
    {
      "cell_type": "code",
      "execution_count": null,
      "metadata": {
        "id": "gtNS_ZHCuSXf"
      },
      "outputs": [],
      "source": [
        "import pandas as pd # analyze data \n",
        "import csv # implements classes to read & write tabulated data in CSV format"
      ]
    },
    {
      "cell_type": "code",
      "source": [
        "from google.colab import files\n",
        "uploaded = files.upload() # uploading data set"
      ],
      "metadata": {
        "colab": {
          "resources": {
            "http://localhost:8080/nbextensions/google.colab/files.js": {
              "data": "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",
              "ok": true,
              "headers": [
                [
                  "content-type",
                  "application/javascript"
                ]
              ],
              "status": 200,
              "status_text": ""
            }
          },
          "base_uri": "https://localhost:8080/",
          "height": 74
        },
        "id": "IOwr0T47uZ9M",
        "outputId": "ad0d8f0a-9b50-4da8-b168-b5ac1bc70d23"
      },
      "execution_count": null,
      "outputs": [
        {
          "output_type": "display_data",
          "data": {
            "text/plain": [
              "<IPython.core.display.HTML object>"
            ],
            "text/html": [
              "\n",
              "     <input type=\"file\" id=\"files-a1253b19-be0d-499f-b2b8-e4bc4ecceb7d\" name=\"files[]\" multiple disabled\n",
              "        style=\"border:none\" />\n",
              "     <output id=\"result-a1253b19-be0d-499f-b2b8-e4bc4ecceb7d\">\n",
              "      Upload widget is only available when the cell has been executed in the\n",
              "      current browser session. Please rerun this cell to enable.\n",
              "      </output>\n",
              "      <script src=\"/nbextensions/google.colab/files.js\"></script> "
            ]
          },
          "metadata": {}
        },
        {
          "output_type": "stream",
          "name": "stdout",
          "text": [
            "Saving cdata2.csv to cdata2.csv\n"
          ]
        }
      ]
    },
    {
      "cell_type": "code",
      "source": [
        "import io\n",
        "crop = pd.read_csv(io.BytesIO(uploaded['cdata2.csv']))\n",
        "print(crop)"
      ],
      "metadata": {
        "colab": {
          "base_uri": "https://localhost:8080/"
        },
        "id": "3aE_868QvLyy",
        "outputId": "2e9c9384-e8d2-4ed0-b29c-d5b114513c95"
      },
      "execution_count": null,
      "outputs": [
        {
          "output_type": "stream",
          "name": "stdout",
          "text": [
            "         Area  Production     GDP  Annual Growth Rate (%)  Inflation  \\\n",
            "0         102         321   33668                  0.0030     0.0401   \n",
            "1          83         300   34352                  0.0186     0.0378   \n",
            "2         189         511   35796                  0.0430     0.0430   \n",
            "3          52          90   41572                  0.1608     0.0381   \n",
            "4          53          73   47728                  0.1482     0.0377   \n",
            "...       ...         ...     ...                     ...        ...   \n",
            "15099     516        1274  110200                  0.0040     0.1106   \n",
            "15100  302274      730136  110200                  0.0040     0.1106   \n",
            "15101     264         721  119624                  0.0857     0.0665   \n",
            "15102     306         801  119624                  0.0857     0.0665   \n",
            "15103  279151      597899  119624                  0.0857     0.0665   \n",
            "\n",
            "       Rainfall  Price  Temparature  \n",
            "0        2763.2   1139        26.60  \n",
            "1        3080.9    864        26.85  \n",
            "2        2620.2    964        27.00  \n",
            "3        2355.9    945        27.30  \n",
            "4        2460.1   1309        27.35  \n",
            "...         ...    ...          ...  \n",
            "15099    2406.1   1345        26.97  \n",
            "15100    2406.1   1345        26.97  \n",
            "15101    2322.6   1425        27.15  \n",
            "15102    2322.6   1425        27.15  \n",
            "15103    2322.6   1425        27.15  \n",
            "\n",
            "[15104 rows x 8 columns]\n"
          ]
        }
      ]
    },
    {
      "cell_type": "code",
      "source": [
        "crop.head() # show first five data points"
      ],
      "metadata": {
        "colab": {
          "base_uri": "https://localhost:8080/",
          "height": 206
        },
        "id": "b_JSSxk1vcpY",
        "outputId": "08d81dd7-aa92-49c0-d6f3-4aeadc34f75d"
      },
      "execution_count": null,
      "outputs": [
        {
          "output_type": "execute_result",
          "data": {
            "text/plain": [
              "   Area  Production    GDP  Annual Growth Rate (%)  Inflation  Rainfall  \\\n",
              "0   102         321  33668                  0.0030     0.0401    2763.2   \n",
              "1    83         300  34352                  0.0186     0.0378    3080.9   \n",
              "2   189         511  35796                  0.0430     0.0430    2620.2   \n",
              "3    52          90  41572                  0.1608     0.0381    2355.9   \n",
              "4    53          73  47728                  0.1482     0.0377    2460.1   \n",
              "\n",
              "   Price  Temparature  \n",
              "0   1139        26.60  \n",
              "1    864        26.85  \n",
              "2    964        27.00  \n",
              "3    945        27.30  \n",
              "4   1309        27.35  "
            ],
            "text/html": [
              "\n",
              "  <div id=\"df-033855ec-c9fb-408a-a58f-41b48733fd88\">\n",
              "    <div class=\"colab-df-container\">\n",
              "      <div>\n",
              "<style scoped>\n",
              "    .dataframe tbody tr th:only-of-type {\n",
              "        vertical-align: middle;\n",
              "    }\n",
              "\n",
              "    .dataframe tbody tr th {\n",
              "        vertical-align: top;\n",
              "    }\n",
              "\n",
              "    .dataframe thead th {\n",
              "        text-align: right;\n",
              "    }\n",
              "</style>\n",
              "<table border=\"1\" class=\"dataframe\">\n",
              "  <thead>\n",
              "    <tr style=\"text-align: right;\">\n",
              "      <th></th>\n",
              "      <th>Area</th>\n",
              "      <th>Production</th>\n",
              "      <th>GDP</th>\n",
              "      <th>Annual Growth Rate (%)</th>\n",
              "      <th>Inflation</th>\n",
              "      <th>Rainfall</th>\n",
              "      <th>Price</th>\n",
              "      <th>Temparature</th>\n",
              "    </tr>\n",
              "  </thead>\n",
              "  <tbody>\n",
              "    <tr>\n",
              "      <th>0</th>\n",
              "      <td>102</td>\n",
              "      <td>321</td>\n",
              "      <td>33668</td>\n",
              "      <td>0.0030</td>\n",
              "      <td>0.0401</td>\n",
              "      <td>2763.2</td>\n",
              "      <td>1139</td>\n",
              "      <td>26.60</td>\n",
              "    </tr>\n",
              "    <tr>\n",
              "      <th>1</th>\n",
              "      <td>83</td>\n",
              "      <td>300</td>\n",
              "      <td>34352</td>\n",
              "      <td>0.0186</td>\n",
              "      <td>0.0378</td>\n",
              "      <td>3080.9</td>\n",
              "      <td>864</td>\n",
              "      <td>26.85</td>\n",
              "    </tr>\n",
              "    <tr>\n",
              "      <th>2</th>\n",
              "      <td>189</td>\n",
              "      <td>511</td>\n",
              "      <td>35796</td>\n",
              "      <td>0.0430</td>\n",
              "      <td>0.0430</td>\n",
              "      <td>2620.2</td>\n",
              "      <td>964</td>\n",
              "      <td>27.00</td>\n",
              "    </tr>\n",
              "    <tr>\n",
              "      <th>3</th>\n",
              "      <td>52</td>\n",
              "      <td>90</td>\n",
              "      <td>41572</td>\n",
              "      <td>0.1608</td>\n",
              "      <td>0.0381</td>\n",
              "      <td>2355.9</td>\n",
              "      <td>945</td>\n",
              "      <td>27.30</td>\n",
              "    </tr>\n",
              "    <tr>\n",
              "      <th>4</th>\n",
              "      <td>53</td>\n",
              "      <td>73</td>\n",
              "      <td>47728</td>\n",
              "      <td>0.1482</td>\n",
              "      <td>0.0377</td>\n",
              "      <td>2460.1</td>\n",
              "      <td>1309</td>\n",
              "      <td>27.35</td>\n",
              "    </tr>\n",
              "  </tbody>\n",
              "</table>\n",
              "</div>\n",
              "      <button class=\"colab-df-convert\" onclick=\"convertToInteractive('df-033855ec-c9fb-408a-a58f-41b48733fd88')\"\n",
              "              title=\"Convert this dataframe to an interactive table.\"\n",
              "              style=\"display:none;\">\n",
              "        \n",
              "  <svg xmlns=\"http://www.w3.org/2000/svg\" height=\"24px\"viewBox=\"0 0 24 24\"\n",
              "       width=\"24px\">\n",
              "    <path d=\"M0 0h24v24H0V0z\" fill=\"none\"/>\n",
              "    <path d=\"M18.56 5.44l.94 2.06.94-2.06 2.06-.94-2.06-.94-.94-2.06-.94 2.06-2.06.94zm-11 1L8.5 8.5l.94-2.06 2.06-.94-2.06-.94L8.5 2.5l-.94 2.06-2.06.94zm10 10l.94 2.06.94-2.06 2.06-.94-2.06-.94-.94-2.06-.94 2.06-2.06.94z\"/><path d=\"M17.41 7.96l-1.37-1.37c-.4-.4-.92-.59-1.43-.59-.52 0-1.04.2-1.43.59L10.3 9.45l-7.72 7.72c-.78.78-.78 2.05 0 2.83L4 21.41c.39.39.9.59 1.41.59.51 0 1.02-.2 1.41-.59l7.78-7.78 2.81-2.81c.8-.78.8-2.07 0-2.86zM5.41 20L4 18.59l7.72-7.72 1.47 1.35L5.41 20z\"/>\n",
              "  </svg>\n",
              "      </button>\n",
              "      \n",
              "  <style>\n",
              "    .colab-df-container {\n",
              "      display:flex;\n",
              "      flex-wrap:wrap;\n",
              "      gap: 12px;\n",
              "    }\n",
              "\n",
              "    .colab-df-convert {\n",
              "      background-color: #E8F0FE;\n",
              "      border: none;\n",
              "      border-radius: 50%;\n",
              "      cursor: pointer;\n",
              "      display: none;\n",
              "      fill: #1967D2;\n",
              "      height: 32px;\n",
              "      padding: 0 0 0 0;\n",
              "      width: 32px;\n",
              "    }\n",
              "\n",
              "    .colab-df-convert:hover {\n",
              "      background-color: #E2EBFA;\n",
              "      box-shadow: 0px 1px 2px rgba(60, 64, 67, 0.3), 0px 1px 3px 1px rgba(60, 64, 67, 0.15);\n",
              "      fill: #174EA6;\n",
              "    }\n",
              "\n",
              "    [theme=dark] .colab-df-convert {\n",
              "      background-color: #3B4455;\n",
              "      fill: #D2E3FC;\n",
              "    }\n",
              "\n",
              "    [theme=dark] .colab-df-convert:hover {\n",
              "      background-color: #434B5C;\n",
              "      box-shadow: 0px 1px 3px 1px rgba(0, 0, 0, 0.15);\n",
              "      filter: drop-shadow(0px 1px 2px rgba(0, 0, 0, 0.3));\n",
              "      fill: #FFFFFF;\n",
              "    }\n",
              "  </style>\n",
              "\n",
              "      <script>\n",
              "        const buttonEl =\n",
              "          document.querySelector('#df-033855ec-c9fb-408a-a58f-41b48733fd88 button.colab-df-convert');\n",
              "        buttonEl.style.display =\n",
              "          google.colab.kernel.accessAllowed ? 'block' : 'none';\n",
              "\n",
              "        async function convertToInteractive(key) {\n",
              "          const element = document.querySelector('#df-033855ec-c9fb-408a-a58f-41b48733fd88');\n",
              "          const dataTable =\n",
              "            await google.colab.kernel.invokeFunction('convertToInteractive',\n",
              "                                                     [key], {});\n",
              "          if (!dataTable) return;\n",
              "\n",
              "          const docLinkHtml = 'Like what you see? Visit the ' +\n",
              "            '<a target=\"_blank\" href=https://colab.research.google.com/notebooks/data_table.ipynb>data table notebook</a>'\n",
              "            + ' to learn more about interactive tables.';\n",
              "          element.innerHTML = '';\n",
              "          dataTable['output_type'] = 'display_data';\n",
              "          await google.colab.output.renderOutput(dataTable, element);\n",
              "          const docLink = document.createElement('div');\n",
              "          docLink.innerHTML = docLinkHtml;\n",
              "          element.appendChild(docLink);\n",
              "        }\n",
              "      </script>\n",
              "    </div>\n",
              "  </div>\n",
              "  "
            ]
          },
          "metadata": {},
          "execution_count": 4
        }
      ]
    },
    {
      "cell_type": "code",
      "source": [
        "crop.info() # dataset statistics"
      ],
      "metadata": {
        "colab": {
          "base_uri": "https://localhost:8080/"
        },
        "id": "TzYx9PoEvxHD",
        "outputId": "47dd77f3-39f5-47bf-c220-3df61a6cbac6"
      },
      "execution_count": null,
      "outputs": [
        {
          "output_type": "stream",
          "name": "stdout",
          "text": [
            "<class 'pandas.core.frame.DataFrame'>\n",
            "RangeIndex: 15104 entries, 0 to 15103\n",
            "Data columns (total 8 columns):\n",
            " #   Column                  Non-Null Count  Dtype  \n",
            "---  ------                  --------------  -----  \n",
            " 0   Area                    15104 non-null  int64  \n",
            " 1   Production              15104 non-null  int64  \n",
            " 2   GDP                     15104 non-null  int64  \n",
            " 3   Annual Growth Rate (%)  15104 non-null  float64\n",
            " 4   Inflation               15104 non-null  float64\n",
            " 5   Rainfall                15104 non-null  float64\n",
            " 6   Price                   15104 non-null  int64  \n",
            " 7   Temparature             14396 non-null  float64\n",
            "dtypes: float64(4), int64(4)\n",
            "memory usage: 944.1 KB\n"
          ]
        }
      ]
    },
    {
      "cell_type": "code",
      "source": [
        "crop['Price'].value_counts() # show value of particular variable"
      ],
      "metadata": {
        "colab": {
          "base_uri": "https://localhost:8080/"
        },
        "id": "qwJsYcuCwDE1",
        "outputId": "38c43756-e7ce-4eb8-82ae-033463f83faa"
      },
      "execution_count": null,
      "outputs": [
        {
          "output_type": "execute_result",
          "data": {
            "text/plain": [
              "1009    1701\n",
              "1284     939\n",
              "1094     923\n",
              "1309     895\n",
              "1030     866\n",
              "1494     866\n",
              "1139     861\n",
              "1575     856\n",
              "1110     850\n",
              "1250     844\n",
              "945      844\n",
              "964      820\n",
              "1345     803\n",
              "864      791\n",
              "939      790\n",
              "1425     768\n",
              "968      607\n",
              "1560      80\n",
              "Name: Price, dtype: int64"
            ]
          },
          "metadata": {},
          "execution_count": 6
        }
      ]
    },
    {
      "cell_type": "code",
      "source": [
        "crop['Area'].value_counts()"
      ],
      "metadata": {
        "colab": {
          "base_uri": "https://localhost:8080/"
        },
        "id": "GnI0wr9rwYUc",
        "outputId": "744e1f2d-df77-4c9e-a501-aac30ba18bb2"
      },
      "execution_count": null,
      "outputs": [
        {
          "output_type": "execute_result",
          "data": {
            "text/plain": [
              "1000      136\n",
              "2000       69\n",
              "1          62\n",
              "3000       56\n",
              "2          44\n",
              "         ... \n",
              "45158       1\n",
              "45729       1\n",
              "46036       1\n",
              "46453       1\n",
              "279151      1\n",
              "Name: Area, Length: 10759, dtype: int64"
            ]
          },
          "metadata": {},
          "execution_count": 7
        }
      ]
    },
    {
      "cell_type": "code",
      "source": [
        "crop.describe() # describes dataset"
      ],
      "metadata": {
        "colab": {
          "base_uri": "https://localhost:8080/",
          "height": 300
        },
        "id": "cVlJThHNw2Yw",
        "outputId": "f50c4d90-1be3-419c-8e61-89e444becef4"
      },
      "execution_count": null,
      "outputs": [
        {
          "output_type": "execute_result",
          "data": {
            "text/plain": [
              "                Area    Production            GDP  Annual Growth Rate (%)  \\\n",
              "count   15104.000000  1.510400e+04   15104.000000            15104.000000   \n",
              "mean    49465.391817  1.062944e+05   69083.542108                0.089930   \n",
              "std     68790.684941  1.738664e+05   31723.555039                0.087498   \n",
              "min         1.000000  0.000000e+00   31388.000000               -0.029000   \n",
              "25%      3298.750000  4.964750e+03   35796.000000                0.004000   \n",
              "50%     18888.000000  3.041250e+04   61332.000000                0.074100   \n",
              "75%     72741.750000  1.350475e+05  103208.000000                0.148200   \n",
              "max    687000.000000  1.710000e+06  122056.000000                0.274700   \n",
              "\n",
              "          Inflation      Rainfall         Price   Temparature  \n",
              "count  15104.000000  15104.000000  15104.000000  14396.000000  \n",
              "mean       0.072745   1615.374378   1159.730535     24.894815  \n",
              "std        0.031243    938.528063    205.872234      3.075868  \n",
              "min        0.037700      0.000000    864.000000     12.210000  \n",
              "25%        0.042500    926.500000    968.000000     23.940000  \n",
              "50%        0.066500   1291.900000   1110.000000     25.760000  \n",
              "75%        0.093100   2372.200000   1309.000000     26.750000  \n",
              "max        0.132300   4229.400000   1575.000000     30.500000  "
            ],
            "text/html": [
              "\n",
              "  <div id=\"df-6b0b25d5-1661-48cf-9ca5-080744e1c7d9\">\n",
              "    <div class=\"colab-df-container\">\n",
              "      <div>\n",
              "<style scoped>\n",
              "    .dataframe tbody tr th:only-of-type {\n",
              "        vertical-align: middle;\n",
              "    }\n",
              "\n",
              "    .dataframe tbody tr th {\n",
              "        vertical-align: top;\n",
              "    }\n",
              "\n",
              "    .dataframe thead th {\n",
              "        text-align: right;\n",
              "    }\n",
              "</style>\n",
              "<table border=\"1\" class=\"dataframe\">\n",
              "  <thead>\n",
              "    <tr style=\"text-align: right;\">\n",
              "      <th></th>\n",
              "      <th>Area</th>\n",
              "      <th>Production</th>\n",
              "      <th>GDP</th>\n",
              "      <th>Annual Growth Rate (%)</th>\n",
              "      <th>Inflation</th>\n",
              "      <th>Rainfall</th>\n",
              "      <th>Price</th>\n",
              "      <th>Temparature</th>\n",
              "    </tr>\n",
              "  </thead>\n",
              "  <tbody>\n",
              "    <tr>\n",
              "      <th>count</th>\n",
              "      <td>15104.000000</td>\n",
              "      <td>1.510400e+04</td>\n",
              "      <td>15104.000000</td>\n",
              "      <td>15104.000000</td>\n",
              "      <td>15104.000000</td>\n",
              "      <td>15104.000000</td>\n",
              "      <td>15104.000000</td>\n",
              "      <td>14396.000000</td>\n",
              "    </tr>\n",
              "    <tr>\n",
              "      <th>mean</th>\n",
              "      <td>49465.391817</td>\n",
              "      <td>1.062944e+05</td>\n",
              "      <td>69083.542108</td>\n",
              "      <td>0.089930</td>\n",
              "      <td>0.072745</td>\n",
              "      <td>1615.374378</td>\n",
              "      <td>1159.730535</td>\n",
              "      <td>24.894815</td>\n",
              "    </tr>\n",
              "    <tr>\n",
              "      <th>std</th>\n",
              "      <td>68790.684941</td>\n",
              "      <td>1.738664e+05</td>\n",
              "      <td>31723.555039</td>\n",
              "      <td>0.087498</td>\n",
              "      <td>0.031243</td>\n",
              "      <td>938.528063</td>\n",
              "      <td>205.872234</td>\n",
              "      <td>3.075868</td>\n",
              "    </tr>\n",
              "    <tr>\n",
              "      <th>min</th>\n",
              "      <td>1.000000</td>\n",
              "      <td>0.000000e+00</td>\n",
              "      <td>31388.000000</td>\n",
              "      <td>-0.029000</td>\n",
              "      <td>0.037700</td>\n",
              "      <td>0.000000</td>\n",
              "      <td>864.000000</td>\n",
              "      <td>12.210000</td>\n",
              "    </tr>\n",
              "    <tr>\n",
              "      <th>25%</th>\n",
              "      <td>3298.750000</td>\n",
              "      <td>4.964750e+03</td>\n",
              "      <td>35796.000000</td>\n",
              "      <td>0.004000</td>\n",
              "      <td>0.042500</td>\n",
              "      <td>926.500000</td>\n",
              "      <td>968.000000</td>\n",
              "      <td>23.940000</td>\n",
              "    </tr>\n",
              "    <tr>\n",
              "      <th>50%</th>\n",
              "      <td>18888.000000</td>\n",
              "      <td>3.041250e+04</td>\n",
              "      <td>61332.000000</td>\n",
              "      <td>0.074100</td>\n",
              "      <td>0.066500</td>\n",
              "      <td>1291.900000</td>\n",
              "      <td>1110.000000</td>\n",
              "      <td>25.760000</td>\n",
              "    </tr>\n",
              "    <tr>\n",
              "      <th>75%</th>\n",
              "      <td>72741.750000</td>\n",
              "      <td>1.350475e+05</td>\n",
              "      <td>103208.000000</td>\n",
              "      <td>0.148200</td>\n",
              "      <td>0.093100</td>\n",
              "      <td>2372.200000</td>\n",
              "      <td>1309.000000</td>\n",
              "      <td>26.750000</td>\n",
              "    </tr>\n",
              "    <tr>\n",
              "      <th>max</th>\n",
              "      <td>687000.000000</td>\n",
              "      <td>1.710000e+06</td>\n",
              "      <td>122056.000000</td>\n",
              "      <td>0.274700</td>\n",
              "      <td>0.132300</td>\n",
              "      <td>4229.400000</td>\n",
              "      <td>1575.000000</td>\n",
              "      <td>30.500000</td>\n",
              "    </tr>\n",
              "  </tbody>\n",
              "</table>\n",
              "</div>\n",
              "      <button class=\"colab-df-convert\" onclick=\"convertToInteractive('df-6b0b25d5-1661-48cf-9ca5-080744e1c7d9')\"\n",
              "              title=\"Convert this dataframe to an interactive table.\"\n",
              "              style=\"display:none;\">\n",
              "        \n",
              "  <svg xmlns=\"http://www.w3.org/2000/svg\" height=\"24px\"viewBox=\"0 0 24 24\"\n",
              "       width=\"24px\">\n",
              "    <path d=\"M0 0h24v24H0V0z\" fill=\"none\"/>\n",
              "    <path d=\"M18.56 5.44l.94 2.06.94-2.06 2.06-.94-2.06-.94-.94-2.06-.94 2.06-2.06.94zm-11 1L8.5 8.5l.94-2.06 2.06-.94-2.06-.94L8.5 2.5l-.94 2.06-2.06.94zm10 10l.94 2.06.94-2.06 2.06-.94-2.06-.94-.94-2.06-.94 2.06-2.06.94z\"/><path d=\"M17.41 7.96l-1.37-1.37c-.4-.4-.92-.59-1.43-.59-.52 0-1.04.2-1.43.59L10.3 9.45l-7.72 7.72c-.78.78-.78 2.05 0 2.83L4 21.41c.39.39.9.59 1.41.59.51 0 1.02-.2 1.41-.59l7.78-7.78 2.81-2.81c.8-.78.8-2.07 0-2.86zM5.41 20L4 18.59l7.72-7.72 1.47 1.35L5.41 20z\"/>\n",
              "  </svg>\n",
              "      </button>\n",
              "      \n",
              "  <style>\n",
              "    .colab-df-container {\n",
              "      display:flex;\n",
              "      flex-wrap:wrap;\n",
              "      gap: 12px;\n",
              "    }\n",
              "\n",
              "    .colab-df-convert {\n",
              "      background-color: #E8F0FE;\n",
              "      border: none;\n",
              "      border-radius: 50%;\n",
              "      cursor: pointer;\n",
              "      display: none;\n",
              "      fill: #1967D2;\n",
              "      height: 32px;\n",
              "      padding: 0 0 0 0;\n",
              "      width: 32px;\n",
              "    }\n",
              "\n",
              "    .colab-df-convert:hover {\n",
              "      background-color: #E2EBFA;\n",
              "      box-shadow: 0px 1px 2px rgba(60, 64, 67, 0.3), 0px 1px 3px 1px rgba(60, 64, 67, 0.15);\n",
              "      fill: #174EA6;\n",
              "    }\n",
              "\n",
              "    [theme=dark] .colab-df-convert {\n",
              "      background-color: #3B4455;\n",
              "      fill: #D2E3FC;\n",
              "    }\n",
              "\n",
              "    [theme=dark] .colab-df-convert:hover {\n",
              "      background-color: #434B5C;\n",
              "      box-shadow: 0px 1px 3px 1px rgba(0, 0, 0, 0.15);\n",
              "      filter: drop-shadow(0px 1px 2px rgba(0, 0, 0, 0.3));\n",
              "      fill: #FFFFFF;\n",
              "    }\n",
              "  </style>\n",
              "\n",
              "      <script>\n",
              "        const buttonEl =\n",
              "          document.querySelector('#df-6b0b25d5-1661-48cf-9ca5-080744e1c7d9 button.colab-df-convert');\n",
              "        buttonEl.style.display =\n",
              "          google.colab.kernel.accessAllowed ? 'block' : 'none';\n",
              "\n",
              "        async function convertToInteractive(key) {\n",
              "          const element = document.querySelector('#df-6b0b25d5-1661-48cf-9ca5-080744e1c7d9');\n",
              "          const dataTable =\n",
              "            await google.colab.kernel.invokeFunction('convertToInteractive',\n",
              "                                                     [key], {});\n",
              "          if (!dataTable) return;\n",
              "\n",
              "          const docLinkHtml = 'Like what you see? Visit the ' +\n",
              "            '<a target=\"_blank\" href=https://colab.research.google.com/notebooks/data_table.ipynb>data table notebook</a>'\n",
              "            + ' to learn more about interactive tables.';\n",
              "          element.innerHTML = '';\n",
              "          dataTable['output_type'] = 'display_data';\n",
              "          await google.colab.output.renderOutput(dataTable, element);\n",
              "          const docLink = document.createElement('div');\n",
              "          docLink.innerHTML = docLinkHtml;\n",
              "          element.appendChild(docLink);\n",
              "        }\n",
              "      </script>\n",
              "    </div>\n",
              "  </div>\n",
              "  "
            ]
          },
          "metadata": {},
          "execution_count": 8
        }
      ]
    },
    {
      "cell_type": "code",
      "source": [
        "import matplotlib.pyplot as plt # for plotting histograms\n",
        "crop.hist(bins=50, figsize=(20, 15)) # bins - column(singular), figsize - allows us to specify the width and height of a figure in unit inches.\n",
        "# %matplotlib inline # to see graphs"
      ],
      "metadata": {
        "colab": {
          "base_uri": "https://localhost:8080/",
          "height": 1000
        },
        "id": "v_Fh7Bhgw8A7",
        "outputId": "2fa59552-308c-4fbc-fdda-ecbf167dfd60"
      },
      "execution_count": null,
      "outputs": [
        {
          "output_type": "execute_result",
          "data": {
            "text/plain": [
              "array([[<matplotlib.axes._subplots.AxesSubplot object at 0x7f4f8ee0c510>,\n",
              "        <matplotlib.axes._subplots.AxesSubplot object at 0x7f4f8e46b210>,\n",
              "        <matplotlib.axes._subplots.AxesSubplot object at 0x7f4f8e401710>],\n",
              "       [<matplotlib.axes._subplots.AxesSubplot object at 0x7f4f8e425c10>,\n",
              "        <matplotlib.axes._subplots.AxesSubplot object at 0x7f4f8e3e5150>,\n",
              "        <matplotlib.axes._subplots.AxesSubplot object at 0x7f4f8e39b650>],\n",
              "       [<matplotlib.axes._subplots.AxesSubplot object at 0x7f4f8e351bd0>,\n",
              "        <matplotlib.axes._subplots.AxesSubplot object at 0x7f4f8e2fcb90>,\n",
              "        <matplotlib.axes._subplots.AxesSubplot object at 0x7f4f8e312090>]],\n",
              "      dtype=object)"
            ]
          },
          "metadata": {},
          "execution_count": 11
        },
        {
          "output_type": "display_data",
          "data": {
            "text/plain": [
              "<Figure size 1440x1080 with 9 Axes>"
            ],
            "image/png": "[encoded data removed]"
          },
          "metadata": {
            "needs_background": "light"
          }
        }
      ]
    },
    {
      "cell_type": "code",
      "source": [
        "from sklearn.model_selection import train_test_split\n",
        "train_set, test_set  = train_test_split(crop, test_size=0.2, random_state=42)\n",
        "print(f\"Rows in train set: {len(train_set)}\\nRows in test set: {len(test_set)}\\n\")"
      ],
      "metadata": {
        "colab": {
          "base_uri": "https://localhost:8080/"
        },
        "id": "Gaqh2VkjxUeX",
        "outputId": "0e350596-a6a5-4f8a-f688-1612007c1b76"
      },
      "execution_count": null,
      "outputs": [
        {
          "output_type": "stream",
          "name": "stdout",
          "text": [
            "Rows in train set: 12083\n",
            "Rows in test set: 3021\n",
            "\n"
          ]
        }
      ]
    },
    {
      "cell_type": "code",
      "source": [
        "import numpy as np\n",
        "crop.replace([np.inf, -np.inf], np.nan, inplace=True) "
      ],
      "metadata": {
        "id": "-fPfKE8y2bLr"
      },
      "execution_count": null,
      "outputs": []
    },
    {
      "cell_type": "code",
      "source": [
        "crop.fillna(999, inplace=True)"
      ],
      "metadata": {
        "id": "c8FUXbgS2j_U"
      },
      "execution_count": null,
      "outputs": []
    },
    {
      "cell_type": "code",
      "source": [
        "from sklearn.model_selection import StratifiedShuffleSplit\n",
        "split = StratifiedShuffleSplit(n_splits=1, test_size=0.2, random_state=42)\n",
        "for train_index, test_index in split.split(crop, crop['Price']): \n",
        "    strat_train_set = crop.loc[train_index] \n",
        "    strat_test_set = crop.loc[test_index]"
      ],
      "metadata": {
        "id": "-NyA5zJ62xNw"
      },
      "execution_count": null,
      "outputs": []
    },
    {
      "cell_type": "code",
      "source": [
        "strat_train_set['Temparature'].value_counts()"
      ],
      "metadata": {
        "colab": {
          "base_uri": "https://localhost:8080/"
        },
        "id": "MIHy1Gid20VH",
        "outputId": "9ee201ef-1443-4822-f3d0-339d82184b7e"
      },
      "execution_count": null,
      "outputs": [
        {
          "output_type": "execute_result",
          "data": {
            "text/plain": [
              "999.00    568\n",
              "26.71     175\n",
              "26.75     152\n",
              "25.90     142\n",
              "26.70     139\n",
              "         ... \n",
              "25.91       1\n",
              "26.25       1\n",
              "25.70       1\n",
              "27.05       1\n",
              "26.79       1\n",
              "Name: Temparature, Length: 344, dtype: int64"
            ]
          },
          "metadata": {},
          "execution_count": 17
        }
      ]
    },
    {
      "cell_type": "code",
      "source": [
        "crop=strat_train_set.copy()"
      ],
      "metadata": {
        "id": "QYvS1g_124fJ"
      },
      "execution_count": null,
      "outputs": []
    },
    {
      "cell_type": "code",
      "source": [
        "corr_matrix = crop.corr() \n",
        "corr_matrix['Price'].sort_values(ascending=False) "
      ],
      "metadata": {
        "colab": {
          "base_uri": "https://localhost:8080/"
        },
        "id": "ObJ5fwsl27uM",
        "outputId": "ef5b8e8c-e8c3-4bca-b88a-4a276871ebb0"
      },
      "execution_count": null,
      "outputs": [
        {
          "output_type": "execute_result",
          "data": {
            "text/plain": [
              "Price                     1.000000\n",
              "GDP                       0.563084\n",
              "Inflation                 0.263704\n",
              "Production                0.014140\n",
              "Area                     -0.005611\n",
              "Rainfall                 -0.018843\n",
              "Temparature              -0.019152\n",
              "Annual Growth Rate (%)   -0.047775\n",
              "Name: Price, dtype: float64"
            ]
          },
          "metadata": {},
          "execution_count": 19
        }
      ]
    },
    {
      "cell_type": "code",
      "source": [
        "from pandas.plotting import scatter_matrix\n",
        "attributes = [\"Price\", \"Inflation\", \"Temparature\", \"GDP\"]\n",
        "scatter_matrix(crop[attributes], figsize = (12,8))"
      ],
      "metadata": {
        "colab": {
          "base_uri": "https://localhost:8080/",
          "height": 812
        },
        "id": "QpwiKh7R2-83",
        "outputId": "cbc32b26-0601-4fd1-dfe6-9a18512175ac"
      },
      "execution_count": null,
      "outputs": [
        {
          "output_type": "execute_result",
          "data": {
            "text/plain": [
              "array([[<matplotlib.axes._subplots.AxesSubplot object at 0x7f4f81783a50>,\n",
              "        <matplotlib.axes._subplots.AxesSubplot object at 0x7f4f8173e150>,\n",
              "        <matplotlib.axes._subplots.AxesSubplot object at 0x7f4f816f4750>,\n",
              "        <matplotlib.axes._subplots.AxesSubplot object at 0x7f4f816acd50>],\n",
              "       [<matplotlib.axes._subplots.AxesSubplot object at 0x7f4f8166e390>,\n",
              "        <matplotlib.axes._subplots.AxesSubplot object at 0x7f4f81625990>,\n",
              "        <matplotlib.axes._subplots.AxesSubplot object at 0x7f4f8165df50>,\n",
              "        <matplotlib.axes._subplots.AxesSubplot object at 0x7f4f815a1590>],\n",
              "       [<matplotlib.axes._subplots.AxesSubplot object at 0x7f4f815a15d0>,\n",
              "        <matplotlib.axes._subplots.AxesSubplot object at 0x7f4f815d6cd0>,\n",
              "        <matplotlib.axes._subplots.AxesSubplot object at 0x7f4f81551810>,\n",
              "        <matplotlib.axes._subplots.AxesSubplot object at 0x7f4f81506e10>],\n",
              "       [<matplotlib.axes._subplots.AxesSubplot object at 0x7f4f814ca450>,\n",
              "        <matplotlib.axes._subplots.AxesSubplot object at 0x7f4f81483a50>,\n",
              "        <matplotlib.axes._subplots.AxesSubplot object at 0x7f4f8142eb90>,\n",
              "        <matplotlib.axes._subplots.AxesSubplot object at 0x7f4f813fa690>]],\n",
              "      dtype=object)"
            ]
          },
          "metadata": {},
          "execution_count": 20
        },
        {
          "output_type": "display_data",
          "data": {
            "text/plain": [
              "<Figure size 864x576 with 16 Axes>"
            ],
            "image/png": "[encoded data removed]"
          },
          "metadata": {
            "needs_background": "light"
          }
        }
      ]
    },
    {
      "cell_type": "code",
      "source": [
        "crop.plot(kind=\"scatter\", x=\"GDP\", y=\"Price\", alpha=0.8)"
      ],
      "metadata": {
        "colab": {
          "base_uri": "https://localhost:8080/",
          "height": 297
        },
        "id": "JNJ0VrIi3GuL",
        "outputId": "2cff4aef-df04-4395-df9d-232f6d1631aa"
      },
      "execution_count": null,
      "outputs": [
        {
          "output_type": "execute_result",
          "data": {
            "text/plain": [
              "<matplotlib.axes._subplots.AxesSubplot at 0x7f4f8116ac90>"
            ]
          },
          "metadata": {},
          "execution_count": 21
        },
        {
          "output_type": "display_data",
          "data": {
            "text/plain": [
              "<Figure size 432x288 with 1 Axes>"
            ],
            "image/png": "[encoded data removed]"
          },
          "metadata": {
            "needs_background": "light"
          }
        }
      ]
    },
    {
      "cell_type": "code",
      "source": [
        "crop.plot(kind=\"scatter\", x=\"Annual Growth Rate (%)\", y=\"Price\", alpha=0.8)"
      ],
      "metadata": {
        "colab": {
          "base_uri": "https://localhost:8080/",
          "height": 297
        },
        "id": "GCvr6bXT3Nez",
        "outputId": "4d912181-d71a-40a1-b8a9-ed0b5e6d9ecf"
      },
      "execution_count": null,
      "outputs": [
        {
          "output_type": "execute_result",
          "data": {
            "text/plain": [
              "<matplotlib.axes._subplots.AxesSubplot at 0x7f4f811c05d0>"
            ]
          },
          "metadata": {},
          "execution_count": 22
        },
        {
          "output_type": "display_data",
          "data": {
            "text/plain": [
              "<Figure size 432x288 with 1 Axes>"
            ],
            "image/png": "[encoded data removed]"
          },
          "metadata": {
            "needs_background": "light"
          }
        }
      ]
    },
    {
      "cell_type": "code",
      "source": [
        "crop[\"prod\"] = crop['Production']/crop['Area']"
      ],
      "metadata": {
        "id": "x7AKgHiq3RRu"
      },
      "execution_count": null,
      "outputs": []
    },
    {
      "cell_type": "code",
      "source": [
        "crop.head()"
      ],
      "metadata": {
        "colab": {
          "base_uri": "https://localhost:8080/",
          "height": 206
        },
        "id": "d_LLKluw3Tqa",
        "outputId": "3c111353-981a-4813-a9b3-0b85256fb061"
      },
      "execution_count": null,
      "outputs": [
        {
          "output_type": "execute_result",
          "data": {
            "text/plain": [
              "        Area  Production     GDP  Annual Growth Rate (%)  Inflation  Rainfall  \\\n",
              "5130    4152        3241   47728                  0.1482     0.0377    1136.6   \n",
              "590      406         574  110808                  0.0741     0.0886    2193.7   \n",
              "5681   20948       47154   83752                  0.1036     0.1088    3862.0   \n",
              "4022  314482      411096   34352                  0.0186     0.0378    1600.1   \n",
              "315    44700      133400   31388                 -0.0053     0.1323     948.1   \n",
              "\n",
              "      Price  Temparature      prod  \n",
              "5130   1309       999.00  0.780588  \n",
              "590    1110        22.75  1.413793  \n",
              "5681   1575        24.25  2.251002  \n",
              "4022    864        26.50  1.307216  \n",
              "315     939        29.10  2.984340  "
            ],
            "text/html": [
              "\n",
              "  <div id=\"df-4bdf6010-6d19-417a-b2dc-2f22aff3299c\">\n",
              "    <div class=\"colab-df-container\">\n",
              "      <div>\n",
              "<style scoped>\n",
              "    .dataframe tbody tr th:only-of-type {\n",
              "        vertical-align: middle;\n",
              "    }\n",
              "\n",
              "    .dataframe tbody tr th {\n",
              "        vertical-align: top;\n",
              "    }\n",
              "\n",
              "    .dataframe thead th {\n",
              "        text-align: right;\n",
              "    }\n",
              "</style>\n",
              "<table border=\"1\" class=\"dataframe\">\n",
              "  <thead>\n",
              "    <tr style=\"text-align: right;\">\n",
              "      <th></th>\n",
              "      <th>Area</th>\n",
              "      <th>Production</th>\n",
              "      <th>GDP</th>\n",
              "      <th>Annual Growth Rate (%)</th>\n",
              "      <th>Inflation</th>\n",
              "      <th>Rainfall</th>\n",
              "      <th>Price</th>\n",
              "      <th>Temparature</th>\n",
              "      <th>prod</th>\n",
              "    </tr>\n",
              "  </thead>\n",
              "  <tbody>\n",
              "    <tr>\n",
              "      <th>5130</th>\n",
              "      <td>4152</td>\n",
              "      <td>3241</td>\n",
              "      <td>47728</td>\n",
              "      <td>0.1482</td>\n",
              "      <td>0.0377</td>\n",
              "      <td>1136.6</td>\n",
              "      <td>1309</td>\n",
              "      <td>999.00</td>\n",
              "      <td>0.780588</td>\n",
              "    </tr>\n",
              "    <tr>\n",
              "      <th>590</th>\n",
              "      <td>406</td>\n",
              "      <td>574</td>\n",
              "      <td>110808</td>\n",
              "      <td>0.0741</td>\n",
              "      <td>0.0886</td>\n",
              "      <td>2193.7</td>\n",
              "      <td>1110</td>\n",
              "      <td>22.75</td>\n",
              "      <td>1.413793</td>\n",
              "    </tr>\n",
              "    <tr>\n",
              "      <th>5681</th>\n",
              "      <td>20948</td>\n",
              "      <td>47154</td>\n",
              "      <td>83752</td>\n",
              "      <td>0.1036</td>\n",
              "      <td>0.1088</td>\n",
              "      <td>3862.0</td>\n",
              "      <td>1575</td>\n",
              "      <td>24.25</td>\n",
              "      <td>2.251002</td>\n",
              "    </tr>\n",
              "    <tr>\n",
              "      <th>4022</th>\n",
              "      <td>314482</td>\n",
              "      <td>411096</td>\n",
              "      <td>34352</td>\n",
              "      <td>0.0186</td>\n",
              "      <td>0.0378</td>\n",
              "      <td>1600.1</td>\n",
              "      <td>864</td>\n",
              "      <td>26.50</td>\n",
              "      <td>1.307216</td>\n",
              "    </tr>\n",
              "    <tr>\n",
              "      <th>315</th>\n",
              "      <td>44700</td>\n",
              "      <td>133400</td>\n",
              "      <td>31388</td>\n",
              "      <td>-0.0053</td>\n",
              "      <td>0.1323</td>\n",
              "      <td>948.1</td>\n",
              "      <td>939</td>\n",
              "      <td>29.10</td>\n",
              "      <td>2.984340</td>\n",
              "    </tr>\n",
              "  </tbody>\n",
              "</table>\n",
              "</div>\n",
              "      <button class=\"colab-df-convert\" onclick=\"convertToInteractive('df-4bdf6010-6d19-417a-b2dc-2f22aff3299c')\"\n",
              "              title=\"Convert this dataframe to an interactive table.\"\n",
              "              style=\"display:none;\">\n",
              "        \n",
              "  <svg xmlns=\"http://www.w3.org/2000/svg\" height=\"24px\"viewBox=\"0 0 24 24\"\n",
              "       width=\"24px\">\n",
              "    <path d=\"M0 0h24v24H0V0z\" fill=\"none\"/>\n",
              "    <path d=\"M18.56 5.44l.94 2.06.94-2.06 2.06-.94-2.06-.94-.94-2.06-.94 2.06-2.06.94zm-11 1L8.5 8.5l.94-2.06 2.06-.94-2.06-.94L8.5 2.5l-.94 2.06-2.06.94zm10 10l.94 2.06.94-2.06 2.06-.94-2.06-.94-.94-2.06-.94 2.06-2.06.94z\"/><path d=\"M17.41 7.96l-1.37-1.37c-.4-.4-.92-.59-1.43-.59-.52 0-1.04.2-1.43.59L10.3 9.45l-7.72 7.72c-.78.78-.78 2.05 0 2.83L4 21.41c.39.39.9.59 1.41.59.51 0 1.02-.2 1.41-.59l7.78-7.78 2.81-2.81c.8-.78.8-2.07 0-2.86zM5.41 20L4 18.59l7.72-7.72 1.47 1.35L5.41 20z\"/>\n",
              "  </svg>\n",
              "      </button>\n",
              "      \n",
              "  <style>\n",
              "    .colab-df-container {\n",
              "      display:flex;\n",
              "      flex-wrap:wrap;\n",
              "      gap: 12px;\n",
              "    }\n",
              "\n",
              "    .colab-df-convert {\n",
              "      background-color: #E8F0FE;\n",
              "      border: none;\n",
              "      border-radius: 50%;\n",
              "      cursor: pointer;\n",
              "      display: none;\n",
              "      fill: #1967D2;\n",
              "      height: 32px;\n",
              "      padding: 0 0 0 0;\n",
              "      width: 32px;\n",
              "    }\n",
              "\n",
              "    .colab-df-convert:hover {\n",
              "      background-color: #E2EBFA;\n",
              "      box-shadow: 0px 1px 2px rgba(60, 64, 67, 0.3), 0px 1px 3px 1px rgba(60, 64, 67, 0.15);\n",
              "      fill: #174EA6;\n",
              "    }\n",
              "\n",
              "    [theme=dark] .colab-df-convert {\n",
              "      background-color: #3B4455;\n",
              "      fill: #D2E3FC;\n",
              "    }\n",
              "\n",
              "    [theme=dark] .colab-df-convert:hover {\n",
              "      background-color: #434B5C;\n",
              "      box-shadow: 0px 1px 3px 1px rgba(0, 0, 0, 0.15);\n",
              "      filter: drop-shadow(0px 1px 2px rgba(0, 0, 0, 0.3));\n",
              "      fill: #FFFFFF;\n",
              "    }\n",
              "  </style>\n",
              "\n",
              "      <script>\n",
              "        const buttonEl =\n",
              "          document.querySelector('#df-4bdf6010-6d19-417a-b2dc-2f22aff3299c button.colab-df-convert');\n",
              "        buttonEl.style.display =\n",
              "          google.colab.kernel.accessAllowed ? 'block' : 'none';\n",
              "\n",
              "        async function convertToInteractive(key) {\n",
              "          const element = document.querySelector('#df-4bdf6010-6d19-417a-b2dc-2f22aff3299c');\n",
              "          const dataTable =\n",
              "            await google.colab.kernel.invokeFunction('convertToInteractive',\n",
              "                                                     [key], {});\n",
              "          if (!dataTable) return;\n",
              "\n",
              "          const docLinkHtml = 'Like what you see? Visit the ' +\n",
              "            '<a target=\"_blank\" href=https://colab.research.google.com/notebooks/data_table.ipynb>data table notebook</a>'\n",
              "            + ' to learn more about interactive tables.';\n",
              "          element.innerHTML = '';\n",
              "          dataTable['output_type'] = 'display_data';\n",
              "          await google.colab.output.renderOutput(dataTable, element);\n",
              "          const docLink = document.createElement('div');\n",
              "          docLink.innerHTML = docLinkHtml;\n",
              "          element.appendChild(docLink);\n",
              "        }\n",
              "      </script>\n",
              "    </div>\n",
              "  </div>\n",
              "  "
            ]
          },
          "metadata": {},
          "execution_count": 24
        }
      ]
    },
    {
      "cell_type": "code",
      "source": [
        "crop = strat_train_set.drop(\"Price\", axis=1)   \n",
        "crop_labels = strat_train_set[\"Price\"].copy()  "
      ],
      "metadata": {
        "id": "kyw3L6ai3Wn_"
      },
      "execution_count": null,
      "outputs": []
    },
    {
      "cell_type": "code",
      "source": [
        "#a = crop.dropna(subset=[\"#]) #Option 1\n",
        "#a.shape\n",
        "# Note that the original housing dataframe will remain unchanged"
      ],
      "metadata": {
        "id": "Rbtf3t8t3kLd"
      },
      "execution_count": null,
      "outputs": []
    },
    {
      "cell_type": "code",
      "source": [
        "#crop.drop(\"Temparature\", axis=1).shape # Option 2\n",
        "# Note that there is no RM column and also note that the original housing dataframe will remain unchanged"
      ],
      "metadata": {
        "id": "dkH1CSUB3rmz"
      },
      "execution_count": null,
      "outputs": []
    },
    {
      "cell_type": "code",
      "source": [
        "median = crop[\"Temparature\"].median() # Compute median for Option 3"
      ],
      "metadata": {
        "id": "niGIIW793twa"
      },
      "execution_count": null,
      "outputs": []
    },
    {
      "cell_type": "code",
      "source": [
        "crop[\"Temparature\"].fillna(median)"
      ],
      "metadata": {
        "colab": {
          "base_uri": "https://localhost:8080/"
        },
        "id": "vcTuFoOH3vlV",
        "outputId": "607adc23-8c38-4e21-d020-c35efd1cc704"
      },
      "execution_count": null,
      "outputs": [
        {
          "output_type": "execute_result",
          "data": {
            "text/plain": [
              "5130     999.00\n",
              "590       22.75\n",
              "5681      24.25\n",
              "4022      26.50\n",
              "315       29.10\n",
              "          ...  \n",
              "10470     27.50\n",
              "13057     26.65\n",
              "9569      27.45\n",
              "14031     20.60\n",
              "13784     26.10\n",
              "Name: Temparature, Length: 12083, dtype: float64"
            ]
          },
          "metadata": {},
          "execution_count": 29
        }
      ]
    },
    {
      "cell_type": "code",
      "source": [
        "crop.shape"
      ],
      "metadata": {
        "colab": {
          "base_uri": "https://localhost:8080/"
        },
        "id": "Tnk7UorJ3xzj",
        "outputId": "e1f5b56c-c847-4015-a3be-58299722fb89"
      },
      "execution_count": null,
      "outputs": [
        {
          "output_type": "execute_result",
          "data": {
            "text/plain": [
              "(12083, 7)"
            ]
          },
          "metadata": {},
          "execution_count": 30
        }
      ]
    },
    {
      "cell_type": "code",
      "source": [
        "crop.describe() "
      ],
      "metadata": {
        "colab": {
          "base_uri": "https://localhost:8080/",
          "height": 300
        },
        "id": "xTGVB8T230Tj",
        "outputId": "2682ca5a-0a1d-4517-a5cf-081a4009957f"
      },
      "execution_count": null,
      "outputs": [
        {
          "output_type": "execute_result",
          "data": {
            "text/plain": [
              "                Area    Production            GDP  Annual Growth Rate (%)  \\\n",
              "count   12083.000000  1.208300e+04   12083.000000            12083.000000   \n",
              "mean    49666.206157  1.064325e+05   69092.793181                0.090035   \n",
              "std     69045.095812  1.740927e+05   31732.355530                0.087550   \n",
              "min         1.000000  0.000000e+00   31388.000000               -0.029000   \n",
              "25%      3331.000000  4.998500e+03   35796.000000                0.004000   \n",
              "50%     19000.000000  3.041600e+04   61332.000000                0.074100   \n",
              "75%     73254.000000  1.346525e+05  103208.000000                0.148200   \n",
              "max    687000.000000  1.710000e+06  122056.000000                0.274700   \n",
              "\n",
              "          Inflation      Rainfall   Temparature  \n",
              "count  12083.000000  12083.000000  12083.000000  \n",
              "mean       0.072749   1620.501332     70.682480  \n",
              "std        0.031245    939.898697    206.206547  \n",
              "min        0.037700      0.000000     12.210000  \n",
              "25%        0.042500    927.900000     24.000000  \n",
              "50%        0.066500   1291.900000     25.850000  \n",
              "75%        0.093100   2389.200000     26.820000  \n",
              "max        0.132300   4229.400000    999.000000  "
            ],
            "text/html": [
              "\n",
              "  <div id=\"df-faa8b886-71d6-4631-b811-cea02dba1d3c\">\n",
              "    <div class=\"colab-df-container\">\n",
              "      <div>\n",
              "<style scoped>\n",
              "    .dataframe tbody tr th:only-of-type {\n",
              "        vertical-align: middle;\n",
              "    }\n",
              "\n",
              "    .dataframe tbody tr th {\n",
              "        vertical-align: top;\n",
              "    }\n",
              "\n",
              "    .dataframe thead th {\n",
              "        text-align: right;\n",
              "    }\n",
              "</style>\n",
              "<table border=\"1\" class=\"dataframe\">\n",
              "  <thead>\n",
              "    <tr style=\"text-align: right;\">\n",
              "      <th></th>\n",
              "      <th>Area</th>\n",
              "      <th>Production</th>\n",
              "      <th>GDP</th>\n",
              "      <th>Annual Growth Rate (%)</th>\n",
              "      <th>Inflation</th>\n",
              "      <th>Rainfall</th>\n",
              "      <th>Temparature</th>\n",
              "    </tr>\n",
              "  </thead>\n",
              "  <tbody>\n",
              "    <tr>\n",
              "      <th>count</th>\n",
              "      <td>12083.000000</td>\n",
              "      <td>1.208300e+04</td>\n",
              "      <td>12083.000000</td>\n",
              "      <td>12083.000000</td>\n",
              "      <td>12083.000000</td>\n",
              "      <td>12083.000000</td>\n",
              "      <td>12083.000000</td>\n",
              "    </tr>\n",
              "    <tr>\n",
              "      <th>mean</th>\n",
              "      <td>49666.206157</td>\n",
              "      <td>1.064325e+05</td>\n",
              "      <td>69092.793181</td>\n",
              "      <td>0.090035</td>\n",
              "      <td>0.072749</td>\n",
              "      <td>1620.501332</td>\n",
              "      <td>70.682480</td>\n",
              "    </tr>\n",
              "    <tr>\n",
              "      <th>std</th>\n",
              "      <td>69045.095812</td>\n",
              "      <td>1.740927e+05</td>\n",
              "      <td>31732.355530</td>\n",
              "      <td>0.087550</td>\n",
              "      <td>0.031245</td>\n",
              "      <td>939.898697</td>\n",
              "      <td>206.206547</td>\n",
              "    </tr>\n",
              "    <tr>\n",
              "      <th>min</th>\n",
              "      <td>1.000000</td>\n",
              "      <td>0.000000e+00</td>\n",
              "      <td>31388.000000</td>\n",
              "      <td>-0.029000</td>\n",
              "      <td>0.037700</td>\n",
              "      <td>0.000000</td>\n",
              "      <td>12.210000</td>\n",
              "    </tr>\n",
              "    <tr>\n",
              "      <th>25%</th>\n",
              "      <td>3331.000000</td>\n",
              "      <td>4.998500e+03</td>\n",
              "      <td>35796.000000</td>\n",
              "      <td>0.004000</td>\n",
              "      <td>0.042500</td>\n",
              "      <td>927.900000</td>\n",
              "      <td>24.000000</td>\n",
              "    </tr>\n",
              "    <tr>\n",
              "      <th>50%</th>\n",
              "      <td>19000.000000</td>\n",
              "      <td>3.041600e+04</td>\n",
              "      <td>61332.000000</td>\n",
              "      <td>0.074100</td>\n",
              "      <td>0.066500</td>\n",
              "      <td>1291.900000</td>\n",
              "      <td>25.850000</td>\n",
              "    </tr>\n",
              "    <tr>\n",
              "      <th>75%</th>\n",
              "      <td>73254.000000</td>\n",
              "      <td>1.346525e+05</td>\n",
              "      <td>103208.000000</td>\n",
              "      <td>0.148200</td>\n",
              "      <td>0.093100</td>\n",
              "      <td>2389.200000</td>\n",
              "      <td>26.820000</td>\n",
              "    </tr>\n",
              "    <tr>\n",
              "      <th>max</th>\n",
              "      <td>687000.000000</td>\n",
              "      <td>1.710000e+06</td>\n",
              "      <td>122056.000000</td>\n",
              "      <td>0.274700</td>\n",
              "      <td>0.132300</td>\n",
              "      <td>4229.400000</td>\n",
              "      <td>999.000000</td>\n",
              "    </tr>\n",
              "  </tbody>\n",
              "</table>\n",
              "</div>\n",
              "      <button class=\"colab-df-convert\" onclick=\"convertToInteractive('df-faa8b886-71d6-4631-b811-cea02dba1d3c')\"\n",
              "              title=\"Convert this dataframe to an interactive table.\"\n",
              "              style=\"display:none;\">\n",
              "        \n",
              "  <svg xmlns=\"http://www.w3.org/2000/svg\" height=\"24px\"viewBox=\"0 0 24 24\"\n",
              "       width=\"24px\">\n",
              "    <path d=\"M0 0h24v24H0V0z\" fill=\"none\"/>\n",
              "    <path d=\"M18.56 5.44l.94 2.06.94-2.06 2.06-.94-2.06-.94-.94-2.06-.94 2.06-2.06.94zm-11 1L8.5 8.5l.94-2.06 2.06-.94-2.06-.94L8.5 2.5l-.94 2.06-2.06.94zm10 10l.94 2.06.94-2.06 2.06-.94-2.06-.94-.94-2.06-.94 2.06-2.06.94z\"/><path d=\"M17.41 7.96l-1.37-1.37c-.4-.4-.92-.59-1.43-.59-.52 0-1.04.2-1.43.59L10.3 9.45l-7.72 7.72c-.78.78-.78 2.05 0 2.83L4 21.41c.39.39.9.59 1.41.59.51 0 1.02-.2 1.41-.59l7.78-7.78 2.81-2.81c.8-.78.8-2.07 0-2.86zM5.41 20L4 18.59l7.72-7.72 1.47 1.35L5.41 20z\"/>\n",
              "  </svg>\n",
              "      </button>\n",
              "      \n",
              "  <style>\n",
              "    .colab-df-container {\n",
              "      display:flex;\n",
              "      flex-wrap:wrap;\n",
              "      gap: 12px;\n",
              "    }\n",
              "\n",
              "    .colab-df-convert {\n",
              "      background-color: #E8F0FE;\n",
              "      border: none;\n",
              "      border-radius: 50%;\n",
              "      cursor: pointer;\n",
              "      display: none;\n",
              "      fill: #1967D2;\n",
              "      height: 32px;\n",
              "      padding: 0 0 0 0;\n",
              "      width: 32px;\n",
              "    }\n",
              "\n",
              "    .colab-df-convert:hover {\n",
              "      background-color: #E2EBFA;\n",
              "      box-shadow: 0px 1px 2px rgba(60, 64, 67, 0.3), 0px 1px 3px 1px rgba(60, 64, 67, 0.15);\n",
              "      fill: #174EA6;\n",
              "    }\n",
              "\n",
              "    [theme=dark] .colab-df-convert {\n",
              "      background-color: #3B4455;\n",
              "      fill: #D2E3FC;\n",
              "    }\n",
              "\n",
              "    [theme=dark] .colab-df-convert:hover {\n",
              "      background-color: #434B5C;\n",
              "      box-shadow: 0px 1px 3px 1px rgba(0, 0, 0, 0.15);\n",
              "      filter: drop-shadow(0px 1px 2px rgba(0, 0, 0, 0.3));\n",
              "      fill: #FFFFFF;\n",
              "    }\n",
              "  </style>\n",
              "\n",
              "      <script>\n",
              "        const buttonEl =\n",
              "          document.querySelector('#df-faa8b886-71d6-4631-b811-cea02dba1d3c button.colab-df-convert');\n",
              "        buttonEl.style.display =\n",
              "          google.colab.kernel.accessAllowed ? 'block' : 'none';\n",
              "\n",
              "        async function convertToInteractive(key) {\n",
              "          const element = document.querySelector('#df-faa8b886-71d6-4631-b811-cea02dba1d3c');\n",
              "          const dataTable =\n",
              "            await google.colab.kernel.invokeFunction('convertToInteractive',\n",
              "                                                     [key], {});\n",
              "          if (!dataTable) return;\n",
              "\n",
              "          const docLinkHtml = 'Like what you see? Visit the ' +\n",
              "            '<a target=\"_blank\" href=https://colab.research.google.com/notebooks/data_table.ipynb>data table notebook</a>'\n",
              "            + ' to learn more about interactive tables.';\n",
              "          element.innerHTML = '';\n",
              "          dataTable['output_type'] = 'display_data';\n",
              "          await google.colab.output.renderOutput(dataTable, element);\n",
              "          const docLink = document.createElement('div');\n",
              "          docLink.innerHTML = docLinkHtml;\n",
              "          element.appendChild(docLink);\n",
              "        }\n",
              "      </script>\n",
              "    </div>\n",
              "  </div>\n",
              "  "
            ]
          },
          "metadata": {},
          "execution_count": 31
        }
      ]
    },
    {
      "cell_type": "code",
      "source": [
        "from sklearn.impute import SimpleImputer\n",
        "imputer = SimpleImputer(strategy=\"median\")\n",
        "imputer.fit(crop)"
      ],
      "metadata": {
        "colab": {
          "base_uri": "https://localhost:8080/"
        },
        "id": "4iaYDDyW32N0",
        "outputId": "c18ff10b-3238-4700-92f8-e33ce01d792b"
      },
      "execution_count": null,
      "outputs": [
        {
          "output_type": "execute_result",
          "data": {
            "text/plain": [
              "SimpleImputer(strategy='median')"
            ]
          },
          "metadata": {},
          "execution_count": 32
        }
      ]
    },
    {
      "cell_type": "code",
      "source": [
        "imputer.statistics_"
      ],
      "metadata": {
        "colab": {
          "base_uri": "https://localhost:8080/"
        },
        "id": "LWm1Yh6r35Ew",
        "outputId": "46df658e-95df-481c-b966-42f68fa5f251"
      },
      "execution_count": null,
      "outputs": [
        {
          "output_type": "execute_result",
          "data": {
            "text/plain": [
              "array([1.9000e+04, 3.0416e+04, 6.1332e+04, 7.4100e-02, 6.6500e-02,\n",
              "       1.2919e+03, 2.5850e+01])"
            ]
          },
          "metadata": {},
          "execution_count": 33
        }
      ]
    },
    {
      "cell_type": "code",
      "source": [
        "X = imputer.transform(crop)"
      ],
      "metadata": {
        "id": "2VGHyI7S367k"
      },
      "execution_count": null,
      "outputs": []
    },
    {
      "cell_type": "code",
      "source": [
        "crop_tr = pd.DataFrame(X, columns=crop.columns)"
      ],
      "metadata": {
        "id": "vbvK_KYX39Hd"
      },
      "execution_count": null,
      "outputs": []
    },
    {
      "cell_type": "code",
      "source": [
        "crop_tr.describe()"
      ],
      "metadata": {
        "colab": {
          "base_uri": "https://localhost:8080/",
          "height": 300
        },
        "id": "iZ125a5s4BSr",
        "outputId": "bbe3bc10-3261-450a-dbdf-0e99597e0a04"
      },
      "execution_count": null,
      "outputs": [
        {
          "output_type": "execute_result",
          "data": {
            "text/plain": [
              "                Area    Production            GDP  Annual Growth Rate (%)  \\\n",
              "count   12083.000000  1.208300e+04   12083.000000            12083.000000   \n",
              "mean    49666.206157  1.064325e+05   69092.793181                0.090035   \n",
              "std     69045.095812  1.740927e+05   31732.355530                0.087550   \n",
              "min         1.000000  0.000000e+00   31388.000000               -0.029000   \n",
              "25%      3331.000000  4.998500e+03   35796.000000                0.004000   \n",
              "50%     19000.000000  3.041600e+04   61332.000000                0.074100   \n",
              "75%     73254.000000  1.346525e+05  103208.000000                0.148200   \n",
              "max    687000.000000  1.710000e+06  122056.000000                0.274700   \n",
              "\n",
              "          Inflation      Rainfall   Temparature  \n",
              "count  12083.000000  12083.000000  12083.000000  \n",
              "mean       0.072749   1620.501332     70.682480  \n",
              "std        0.031245    939.898697    206.206547  \n",
              "min        0.037700      0.000000     12.210000  \n",
              "25%        0.042500    927.900000     24.000000  \n",
              "50%        0.066500   1291.900000     25.850000  \n",
              "75%        0.093100   2389.200000     26.820000  \n",
              "max        0.132300   4229.400000    999.000000  "
            ],
            "text/html": [
              "\n",
              "  <div id=\"df-28850afd-b98d-4d87-a7d4-1471959138f1\">\n",
              "    <div class=\"colab-df-container\">\n",
              "      <div>\n",
              "<style scoped>\n",
              "    .dataframe tbody tr th:only-of-type {\n",
              "        vertical-align: middle;\n",
              "    }\n",
              "\n",
              "    .dataframe tbody tr th {\n",
              "        vertical-align: top;\n",
              "    }\n",
              "\n",
              "    .dataframe thead th {\n",
              "        text-align: right;\n",
              "    }\n",
              "</style>\n",
              "<table border=\"1\" class=\"dataframe\">\n",
              "  <thead>\n",
              "    <tr style=\"text-align: right;\">\n",
              "      <th></th>\n",
              "      <th>Area</th>\n",
              "      <th>Production</th>\n",
              "      <th>GDP</th>\n",
              "      <th>Annual Growth Rate (%)</th>\n",
              "      <th>Inflation</th>\n",
              "      <th>Rainfall</th>\n",
              "      <th>Temparature</th>\n",
              "    </tr>\n",
              "  </thead>\n",
              "  <tbody>\n",
              "    <tr>\n",
              "      <th>count</th>\n",
              "      <td>12083.000000</td>\n",
              "      <td>1.208300e+04</td>\n",
              "      <td>12083.000000</td>\n",
              "      <td>12083.000000</td>\n",
              "      <td>12083.000000</td>\n",
              "      <td>12083.000000</td>\n",
              "      <td>12083.000000</td>\n",
              "    </tr>\n",
              "    <tr>\n",
              "      <th>mean</th>\n",
              "      <td>49666.206157</td>\n",
              "      <td>1.064325e+05</td>\n",
              "      <td>69092.793181</td>\n",
              "      <td>0.090035</td>\n",
              "      <td>0.072749</td>\n",
              "      <td>1620.501332</td>\n",
              "      <td>70.682480</td>\n",
              "    </tr>\n",
              "    <tr>\n",
              "      <th>std</th>\n",
              "      <td>69045.095812</td>\n",
              "      <td>1.740927e+05</td>\n",
              "      <td>31732.355530</td>\n",
              "      <td>0.087550</td>\n",
              "      <td>0.031245</td>\n",
              "      <td>939.898697</td>\n",
              "      <td>206.206547</td>\n",
              "    </tr>\n",
              "    <tr>\n",
              "      <th>min</th>\n",
              "      <td>1.000000</td>\n",
              "      <td>0.000000e+00</td>\n",
              "      <td>31388.000000</td>\n",
              "      <td>-0.029000</td>\n",
              "      <td>0.037700</td>\n",
              "      <td>0.000000</td>\n",
              "      <td>12.210000</td>\n",
              "    </tr>\n",
              "    <tr>\n",
              "      <th>25%</th>\n",
              "      <td>3331.000000</td>\n",
              "      <td>4.998500e+03</td>\n",
              "      <td>35796.000000</td>\n",
              "      <td>0.004000</td>\n",
              "      <td>0.042500</td>\n",
              "      <td>927.900000</td>\n",
              "      <td>24.000000</td>\n",
              "    </tr>\n",
              "    <tr>\n",
              "      <th>50%</th>\n",
              "      <td>19000.000000</td>\n",
              "      <td>3.041600e+04</td>\n",
              "      <td>61332.000000</td>\n",
              "      <td>0.074100</td>\n",
              "      <td>0.066500</td>\n",
              "      <td>1291.900000</td>\n",
              "      <td>25.850000</td>\n",
              "    </tr>\n",
              "    <tr>\n",
              "      <th>75%</th>\n",
              "      <td>73254.000000</td>\n",
              "      <td>1.346525e+05</td>\n",
              "      <td>103208.000000</td>\n",
              "      <td>0.148200</td>\n",
              "      <td>0.093100</td>\n",
              "      <td>2389.200000</td>\n",
              "      <td>26.820000</td>\n",
              "    </tr>\n",
              "    <tr>\n",
              "      <th>max</th>\n",
              "      <td>687000.000000</td>\n",
              "      <td>1.710000e+06</td>\n",
              "      <td>122056.000000</td>\n",
              "      <td>0.274700</td>\n",
              "      <td>0.132300</td>\n",
              "      <td>4229.400000</td>\n",
              "      <td>999.000000</td>\n",
              "    </tr>\n",
              "  </tbody>\n",
              "</table>\n",
              "</div>\n",
              "      <button class=\"colab-df-convert\" onclick=\"convertToInteractive('df-28850afd-b98d-4d87-a7d4-1471959138f1')\"\n",
              "              title=\"Convert this dataframe to an interactive table.\"\n",
              "              style=\"display:none;\">\n",
              "        \n",
              "  <svg xmlns=\"http://www.w3.org/2000/svg\" height=\"24px\"viewBox=\"0 0 24 24\"\n",
              "       width=\"24px\">\n",
              "    <path d=\"M0 0h24v24H0V0z\" fill=\"none\"/>\n",
              "    <path d=\"M18.56 5.44l.94 2.06.94-2.06 2.06-.94-2.06-.94-.94-2.06-.94 2.06-2.06.94zm-11 1L8.5 8.5l.94-2.06 2.06-.94-2.06-.94L8.5 2.5l-.94 2.06-2.06.94zm10 10l.94 2.06.94-2.06 2.06-.94-2.06-.94-.94-2.06-.94 2.06-2.06.94z\"/><path d=\"M17.41 7.96l-1.37-1.37c-.4-.4-.92-.59-1.43-.59-.52 0-1.04.2-1.43.59L10.3 9.45l-7.72 7.72c-.78.78-.78 2.05 0 2.83L4 21.41c.39.39.9.59 1.41.59.51 0 1.02-.2 1.41-.59l7.78-7.78 2.81-2.81c.8-.78.8-2.07 0-2.86zM5.41 20L4 18.59l7.72-7.72 1.47 1.35L5.41 20z\"/>\n",
              "  </svg>\n",
              "      </button>\n",
              "      \n",
              "  <style>\n",
              "    .colab-df-container {\n",
              "      display:flex;\n",
              "      flex-wrap:wrap;\n",
              "      gap: 12px;\n",
              "    }\n",
              "\n",
              "    .colab-df-convert {\n",
              "      background-color: #E8F0FE;\n",
              "      border: none;\n",
              "      border-radius: 50%;\n",
              "      cursor: pointer;\n",
              "      display: none;\n",
              "      fill: #1967D2;\n",
              "      height: 32px;\n",
              "      padding: 0 0 0 0;\n",
              "      width: 32px;\n",
              "    }\n",
              "\n",
              "    .colab-df-convert:hover {\n",
              "      background-color: #E2EBFA;\n",
              "      box-shadow: 0px 1px 2px rgba(60, 64, 67, 0.3), 0px 1px 3px 1px rgba(60, 64, 67, 0.15);\n",
              "      fill: #174EA6;\n",
              "    }\n",
              "\n",
              "    [theme=dark] .colab-df-convert {\n",
              "      background-color: #3B4455;\n",
              "      fill: #D2E3FC;\n",
              "    }\n",
              "\n",
              "    [theme=dark] .colab-df-convert:hover {\n",
              "      background-color: #434B5C;\n",
              "      box-shadow: 0px 1px 3px 1px rgba(0, 0, 0, 0.15);\n",
              "      filter: drop-shadow(0px 1px 2px rgba(0, 0, 0, 0.3));\n",
              "      fill: #FFFFFF;\n",
              "    }\n",
              "  </style>\n",
              "\n",
              "      <script>\n",
              "        const buttonEl =\n",
              "          document.querySelector('#df-28850afd-b98d-4d87-a7d4-1471959138f1 button.colab-df-convert');\n",
              "        buttonEl.style.display =\n",
              "          google.colab.kernel.accessAllowed ? 'block' : 'none';\n",
              "\n",
              "        async function convertToInteractive(key) {\n",
              "          const element = document.querySelector('#df-28850afd-b98d-4d87-a7d4-1471959138f1');\n",
              "          const dataTable =\n",
              "            await google.colab.kernel.invokeFunction('convertToInteractive',\n",
              "                                                     [key], {});\n",
              "          if (!dataTable) return;\n",
              "\n",
              "          const docLinkHtml = 'Like what you see? Visit the ' +\n",
              "            '<a target=\"_blank\" href=https://colab.research.google.com/notebooks/data_table.ipynb>data table notebook</a>'\n",
              "            + ' to learn more about interactive tables.';\n",
              "          element.innerHTML = '';\n",
              "          dataTable['output_type'] = 'display_data';\n",
              "          await google.colab.output.renderOutput(dataTable, element);\n",
              "          const docLink = document.createElement('div');\n",
              "          docLink.innerHTML = docLinkHtml;\n",
              "          element.appendChild(docLink);\n",
              "        }\n",
              "      </script>\n",
              "    </div>\n",
              "  </div>\n",
              "  "
            ]
          },
          "metadata": {},
          "execution_count": 36
        }
      ]
    },
    {
      "cell_type": "code",
      "source": [
        "from sklearn.pipeline import Pipeline  \n",
        "from sklearn.preprocessing import StandardScaler \n",
        "my_pipeline = Pipeline([\n",
        "    ('imputer', SimpleImputer(strategy=\"median\")),\n",
        "    ('std_scaler', StandardScaler()),\n",
        "])"
      ],
      "metadata": {
        "id": "NO9X8kYE4Ddw"
      },
      "execution_count": null,
      "outputs": []
    },
    {
      "cell_type": "code",
      "source": [
        "crop_num_tr = my_pipeline.fit_transform(crop)"
      ],
      "metadata": {
        "id": "oVvFs4cO4Fpr"
      },
      "execution_count": null,
      "outputs": []
    },
    {
      "cell_type": "code",
      "source": [
        "crop_num_tr.shape"
      ],
      "metadata": {
        "colab": {
          "base_uri": "https://localhost:8080/"
        },
        "id": "PbxzZxSQ4HhI",
        "outputId": "88ee6bb2-e38c-4f8e-d1aa-0e690c122475"
      },
      "execution_count": null,
      "outputs": [
        {
          "output_type": "execute_result",
          "data": {
            "text/plain": [
              "(12083, 7)"
            ]
          },
          "metadata": {},
          "execution_count": 39
        }
      ]
    },
    {
      "cell_type": "code",
      "source": [
        "from sklearn.linear_model import LinearRegression\n",
        "from sklearn.tree import DecisionTreeRegressor\n",
        "from sklearn.ensemble import RandomForestRegressor\n",
        "from sklearn.svm import SVC\n",
        "#odel = LinearRegression()\n",
        "#model = DecisionTreeRegressor()\n",
        "model = RandomForestRegressor()\n",
        "#model = SVC()\n",
        "model.fit(crop_num_tr, crop_labels)"
      ],
      "metadata": {
        "colab": {
          "base_uri": "https://localhost:8080/"
        },
        "id": "V-HswPY64Jek",
        "outputId": "48bd18b1-7146-4243-8680-fe76a4e0ef1f"
      },
      "execution_count": null,
      "outputs": [
        {
          "output_type": "execute_result",
          "data": {
            "text/plain": [
              "RandomForestRegressor()"
            ]
          },
          "metadata": {},
          "execution_count": 40
        }
      ]
    },
    {
      "cell_type": "code",
      "source": [
        "some_data = crop.iloc[:5]"
      ],
      "metadata": {
        "id": "t20Mtxt34L1N"
      },
      "execution_count": null,
      "outputs": []
    },
    {
      "cell_type": "code",
      "source": [
        "some_labels =crop_labels.iloc[:5]"
      ],
      "metadata": {
        "id": "mdyPT3PP4PqQ"
      },
      "execution_count": null,
      "outputs": []
    },
    {
      "cell_type": "code",
      "source": [
        "prepared_data = my_pipeline.transform(some_data)"
      ],
      "metadata": {
        "id": "ozgfeGyf4RvO"
      },
      "execution_count": null,
      "outputs": []
    },
    {
      "cell_type": "code",
      "source": [
        "model.predict(prepared_data)"
      ],
      "metadata": {
        "colab": {
          "base_uri": "https://localhost:8080/"
        },
        "id": "Z6kQjfY-4Tgq",
        "outputId": "974f4bfd-1752-4edb-e3b7-7567a2bb903f"
      },
      "execution_count": null,
      "outputs": [
        {
          "output_type": "execute_result",
          "data": {
            "text/plain": [
              "array([1309., 1110., 1575.,  864.,  939.])"
            ]
          },
          "metadata": {},
          "execution_count": 44
        }
      ]
    },
    {
      "cell_type": "code",
      "source": [
        "list(some_labels)"
      ],
      "metadata": {
        "colab": {
          "base_uri": "https://localhost:8080/"
        },
        "id": "0XQNmlyE4XRU",
        "outputId": "0b7edd3b-8df6-4266-b1a0-9a021fa1a1ef"
      },
      "execution_count": null,
      "outputs": [
        {
          "output_type": "execute_result",
          "data": {
            "text/plain": [
              "[1309, 1110, 1575, 864, 939]"
            ]
          },
          "metadata": {},
          "execution_count": 45
        }
      ]
    },
    {
      "cell_type": "code",
      "source": [
        "from sklearn.metrics import mean_squared_error\n",
        "crop_predictions = model.predict(crop_num_tr)\n",
        "mse = mean_squared_error(crop_labels, crop_predictions)\n",
        "rmse = np.sqrt(mse) "
      ],
      "metadata": {
        "id": "KEAb5EsS4ZUB"
      },
      "execution_count": null,
      "outputs": []
    },
    {
      "cell_type": "code",
      "source": [
        "rmse # 1.5701592196881597"
      ],
      "metadata": {
        "colab": {
          "base_uri": "https://localhost:8080/"
        },
        "id": "6bO5uw504bg-",
        "outputId": "e004624d-67e9-4fb8-ea33-8d906beaac21"
      },
      "execution_count": null,
      "outputs": [
        {
          "output_type": "execute_result",
          "data": {
            "text/plain": [
              "1.6115309117420384"
            ]
          },
          "metadata": {},
          "execution_count": 47
        }
      ]
    },
    {
      "cell_type": "code",
      "source": [
        "# 1 2 3 4 5 6 7 8 9 10  \n",
        "from sklearn.model_selection import cross_val_score\n",
        "scores = cross_val_score(model, crop_num_tr, crop_labels, scoring=\"neg_mean_squared_error\", cv=10)\n",
        "rmse_scores = np.sqrt(-scores)"
      ],
      "metadata": {
        "id": "zILi3pXm4fF9"
      },
      "execution_count": null,
      "outputs": []
    },
    {
      "cell_type": "code",
      "source": [
        "rmse_scores"
      ],
      "metadata": {
        "colab": {
          "base_uri": "https://localhost:8080/"
        },
        "id": "Pd7XZd754j0m",
        "outputId": "14c782f5-dc59-4a94-97e5-d690b9d880b1"
      },
      "execution_count": null,
      "outputs": [
        {
          "output_type": "execute_result",
          "data": {
            "text/plain": [
              "array([8.41020762, 6.66340282, 4.17720975, 3.53378672, 3.46590676,\n",
              "       2.81748241, 3.57068207, 3.34716381, 2.97387606, 5.54140275])"
            ]
          },
          "metadata": {},
          "execution_count": 49
        }
      ]
    },
    {
      "cell_type": "code",
      "source": [
        "def print_scores(scores):\n",
        "    print(\"Scores:\", scores)\n",
        "    print(\"Mean: \", scores.mean())\n",
        "    print(\"Standard deviation: \", scores.std())"
      ],
      "metadata": {
        "id": "xvLVUKUR4rJl"
      },
      "execution_count": null,
      "outputs": []
    },
    {
      "cell_type": "code",
      "source": [
        "print_scores(rmse_scores)"
      ],
      "metadata": {
        "colab": {
          "base_uri": "https://localhost:8080/"
        },
        "id": "DsqJq6684vKO",
        "outputId": "8eeb8991-708f-4188-e1db-d39461b5002c"
      },
      "execution_count": null,
      "outputs": [
        {
          "output_type": "stream",
          "name": "stdout",
          "text": [
            "Scores: [8.41020762 6.66340282 4.17720975 3.53378672 3.46590676 2.81748241\n",
            " 3.57068207 3.34716381 2.97387606 5.54140275]\n",
            "Mean:  4.450112077244851\n",
            "Standard deviation:  1.7461202804630747\n"
          ]
        }
      ]
    },
    {
      "cell_type": "code",
      "source": [
        "from joblib import dump, load\n",
        "dump(model,'data')"
      ],
      "metadata": {
        "colab": {
          "base_uri": "https://localhost:8080/"
        },
        "id": "Y7ZxmX_i4y38",
        "outputId": "99742937-4c86-458b-e7c1-a1211cddf4ec"
      },
      "execution_count": null,
      "outputs": [
        {
          "output_type": "execute_result",
          "data": {
            "text/plain": [
              "['data']"
            ]
          },
          "metadata": {},
          "execution_count": 52
        }
      ]
    },
    {
      "cell_type": "code",
      "source": [
        "X_test = strat_test_set.drop(\"Price\", axis=1) \n",
        "Y_test = strat_test_set[\"Price\"].copy() \n",
        "X_test_prepared = my_pipeline.transform(X_test)\n",
        "final_predictions = model.predict(X_test_prepared)\n",
        "final_mse = mean_squared_error(Y_test, final_predictions)\n",
        "final_rmse = np.sqrt(final_mse)\n",
        "print(final_predictions, list(Y_test))"
      ],
      "metadata": {
        "colab": {
          "base_uri": "https://localhost:8080/"
        },
        "id": "MvgD0Oht418a",
        "outputId": "f7494997-046b-41c9-8479-187befdfc265"
      },
      "execution_count": null,
      "outputs": [
        {
          "output_type": "stream",
          "name": "stdout",
          "text": [
            "[1425. 1309.  968. ... 1009. 1425. 1284.] [1425, 1309, 968, 1030, 1009, 1009, 1139, 1494, 1030, 1009, 1094, 1575, 964, 1309, 1030, 1284, 1139, 1110, 1094, 1309, 1309, 964, 1250, 1494, 1345, 1110, 1425, 1030, 1030, 864, 1110, 1250, 968, 964, 1250, 1494, 1425, 964, 1110, 1284, 939, 964, 1309, 1030, 1284, 1309, 1575, 1575, 1094, 945, 1284, 1030, 945, 1494, 864, 1575, 1250, 1345, 1030, 1425, 1494, 1575, 968, 1425, 1009, 1139, 1094, 1009, 1425, 964, 939, 1139, 945, 1575, 945, 1284, 864, 964, 1009, 968, 1094, 1575, 1110, 1494, 968, 1009, 1110, 1009, 1575, 864, 1009, 1094, 1110, 1009, 1094, 1425, 1560, 1575, 1094, 968, 968, 1110, 1009, 1309, 1030, 1110, 1009, 1110, 864, 1030, 1494, 1009, 1030, 1284, 1110, 964, 939, 1250, 1110, 1309, 1094, 1560, 968, 1110, 1494, 945, 1345, 1110, 1009, 1575, 1250, 939, 1345, 1030, 1030, 1030, 1345, 964, 1345, 1425, 1494, 1094, 864, 1094, 1009, 1009, 1425, 1309, 964, 1494, 1009, 1345, 1009, 1575, 1575, 1094, 1425, 939, 1139, 1494, 1110, 1345, 1139, 1494, 1009, 1494, 1009, 1094, 939, 1139, 1094, 1425, 1345, 1250, 1139, 1030, 945, 1284, 1094, 1575, 945, 1009, 1139, 1494, 1009, 964, 1309, 1009, 1250, 1009, 964, 945, 1425, 1575, 964, 968, 1009, 1139, 1575, 1139, 1030, 1030, 1575, 945, 1345, 1009, 1009, 1009, 1009, 964, 1494, 945, 1009, 1284, 1309, 864, 1250, 1345, 964, 964, 1345, 939, 1009, 1425, 968, 1250, 1575, 968, 1284, 1575, 1009, 1009, 1009, 1284, 1030, 1250, 964, 1425, 1309, 1139, 939, 1575, 1250, 1250, 1250, 864, 1425, 1094, 939, 1139, 1139, 1009, 1030, 1575, 1284, 939, 1425, 1284, 1250, 1110, 1110, 1030, 1345, 1009, 1009, 1494, 1494, 1094, 1425, 1494, 939, 1425, 1284, 1030, 1309, 1309, 1250, 964, 1250, 1009, 1110, 1575, 1139, 1110, 945, 1345, 864, 1345, 1009, 1094, 968, 1094, 864, 939, 968, 1110, 968, 1284, 1139, 1284, 864, 968, 1030, 1309, 1425, 1309, 964, 1345, 1284, 1094, 939, 1094, 1309, 1030, 1494, 1494, 1309, 1345, 1345, 1284, 1309, 968, 1494, 1425, 1009, 964, 1094, 1494, 1094, 1309, 1284, 1030, 1030, 1494, 864, 1284, 864, 939, 1494, 1110, 1250, 1250, 1309, 864, 1139, 1250, 1139, 1009, 1284, 945, 945, 1094, 964, 1309, 1494, 945, 1560, 1250, 1009, 1309, 1345, 945, 1139, 864, 1110, 1139, 1009, 864, 939, 1309, 1494, 1110, 1250, 968, 864, 968, 1494, 1094, 1030, 1309, 1110, 1345, 1309, 1425, 864, 1009, 1494, 1110, 1284, 1345, 939, 864, 1309, 939, 964, 1139, 1009, 864, 1009, 1094, 1009, 1030, 864, 945, 1494, 1494, 968, 1009, 964, 1030, 939, 1309, 1345, 1009, 1110, 1009, 1110, 864, 1009, 1139, 1284, 1284, 1284, 1009, 1345, 945, 1030, 1094, 1094, 1094, 1494, 1094, 1250, 1575, 1284, 1284, 1575, 1575, 964, 864, 1030, 945, 945, 964, 864, 864, 939, 1110, 1309, 1139, 964, 1250, 1284, 1094, 1009, 1009, 1110, 1139, 1009, 864, 1284, 1139, 1309, 1009, 964, 1284, 1345, 964, 939, 1110, 1009, 945, 1575, 864, 1094, 1494, 1345, 1345, 1250, 945, 1494, 945, 1250, 1345, 1009, 939, 945, 1494, 864, 1494, 939, 864, 939, 1250, 1575, 1009, 1425, 945, 964, 964, 1575, 1139, 1110, 1494, 1494, 1139, 1110, 1030, 945, 1009, 1345, 964, 1494, 939, 1345, 1110, 964, 1250, 1309, 1284, 1009, 1309, 939, 1009, 1425, 1494, 939, 945, 864, 1030, 1094, 968, 1560, 1009, 864, 1250, 1094, 864, 1284, 1284, 1009, 1575, 939, 1575, 864, 1284, 964, 1110, 1309, 1110, 1250, 1425, 1110, 1425, 1009, 1094, 1009, 1110, 1309, 1030, 1139, 1575, 1309, 1494, 1575, 945, 1009, 1009, 1250, 1425, 968, 864, 1309, 864, 1345, 1030, 968, 864, 1030, 1345, 1575, 864, 1494, 864, 1250, 1284, 1009, 945, 939, 1575, 1009, 968, 1560, 1110, 1309, 1309, 939, 1009, 939, 1009, 1250, 1030, 864, 1110, 1494, 1309, 939, 964, 1030, 1345, 1139, 1425, 968, 1575, 1009, 1009, 1009, 1030, 1309, 1110, 1030, 945, 864, 1284, 1250, 1030, 1094, 1030, 945, 1009, 945, 1425, 1284, 1284, 1575, 1250, 1425, 1030, 964, 864, 1110, 1309, 1494, 1139, 1425, 1309, 1425, 1139, 1139, 964, 939, 1284, 968, 1009, 1250, 1575, 945, 1009, 1284, 1494, 1250, 1030, 1494, 1009, 939, 1250, 1030, 1575, 1425, 939, 1575, 1345, 1494, 1309, 1009, 1110, 939, 1284, 939, 1094, 1425, 1094, 945, 1425, 1009, 1250, 1030, 964, 1494, 864, 1575, 1425, 1250, 1284, 1250, 1309, 1494, 1110, 1284, 1009, 1250, 968, 1309, 1425, 964, 1284, 1110, 1009, 1094, 1494, 1139, 1345, 1094, 1345, 1284, 939, 939, 1345, 1110, 1139, 1139, 1425, 1284, 1494, 1425, 1284, 1094, 1494, 945, 1094, 1030, 1345, 968, 964, 945, 1284, 1009, 1094, 945, 1425, 1494, 1009, 939, 1284, 1284, 1110, 1309, 1250, 1110, 1009, 939, 945, 939, 1009, 1494, 1425, 1139, 939, 939, 1110, 1250, 864, 1345, 1030, 968, 1009, 1309, 1494, 1309, 1009, 1345, 1030, 1094, 1139, 1345, 1139, 1425, 1425, 864, 1139, 945, 864, 1309, 1284, 964, 1009, 1575, 864, 1030, 1094, 1139, 1009, 1139, 1575, 1030, 1309, 1250, 964, 939, 864, 939, 1094, 1009, 964, 1030, 1345, 1009, 964, 864, 1110, 1094, 964, 968, 1094, 864, 1009, 1009, 864, 945, 1309, 1345, 1009, 1009, 939, 1110, 1094, 1139, 1139, 1284, 1110, 1094, 1009, 1309, 1009, 1345, 1110, 1425, 864, 939, 1110, 1009, 945, 1575, 1094, 1250, 1139, 1030, 939, 1094, 1575, 939, 1494, 1139, 1494, 1094, 939, 1494, 1009, 1345, 1425, 1009, 1094, 968, 1094, 1009, 1284, 964, 1139, 1009, 939, 1139, 1494, 1110, 1139, 1575, 1094, 1094, 1250, 1345, 1030, 964, 1575, 1009, 1094, 1575, 864, 1309, 1345, 1575, 1009, 1425, 1094, 945, 1030, 1139, 1094, 964, 1575, 1345, 945, 1250, 1425, 1250, 1284, 1575, 1009, 1284, 1345, 1284, 1345, 1094, 1494, 1284, 1494, 1345, 1009, 964, 939, 1009, 1094, 1009, 1250, 1250, 1284, 1250, 939, 1309, 1284, 939, 1425, 964, 1009, 1575, 939, 1139, 964, 1309, 1309, 945, 1250, 968, 1110, 864, 1250, 939, 964, 968, 1345, 964, 968, 1494, 939, 864, 1094, 1309, 1284, 968, 1009, 1284, 1110, 864, 1009, 1094, 1345, 1139, 1494, 1110, 1009, 945, 1309, 1094, 1030, 1009, 1250, 1284, 939, 1110, 1139, 1425, 968, 968, 864, 1110, 1030, 864, 1250, 939, 968, 1030, 1284, 1009, 968, 1425, 964, 964, 1009, 1309, 939, 964, 1110, 964, 1309, 1009, 1494, 1030, 1139, 1345, 1309, 1094, 1110, 1309, 1345, 1094, 1345, 939, 1094, 1309, 1009, 1009, 1009, 939, 1139, 1139, 864, 1494, 1009, 1030, 1139, 1139, 864, 945, 945, 1575, 1009, 1309, 1139, 864, 1139, 1284, 939, 1309, 1139, 1094, 1030, 945, 1345, 945, 945, 1309, 1009, 1139, 968, 1494, 1575, 1309, 1494, 1494, 1309, 1030, 1309, 1009, 939, 1139, 1094, 1110, 1425, 1030, 968, 864, 1009, 1250, 1250, 864, 945, 945, 1494, 968, 945, 1250, 1425, 1494, 1284, 1094, 1494, 964, 939, 1030, 1494, 1030, 945, 1009, 1009, 939, 968, 1139, 1494, 1139, 945, 968, 1575, 1094, 1575, 864, 968, 1009, 1094, 945, 968, 864, 968, 864, 939, 1009, 1575, 939, 1575, 1009, 1250, 1425, 1425, 945, 1009, 1345, 1494, 1139, 1030, 1030, 1425, 1425, 864, 1009, 1309, 968, 1494, 1284, 968, 1094, 1345, 1009, 1110, 1094, 1494, 939, 1345, 1110, 939, 1009, 1309, 864, 939, 1009, 939, 1309, 864, 1284, 1250, 1284, 1345, 1009, 1009, 1494, 1284, 1030, 1494, 1009, 1425, 964, 864, 1309, 1139, 968, 1094, 1009, 968, 1494, 864, 1009, 1309, 1009, 1309, 1009, 968, 1425, 1494, 939, 1110, 1009, 1575, 1110, 1575, 1345, 1345, 1139, 1009, 945, 1139, 945, 1575, 939, 1250, 1110, 945, 1425, 1250, 945, 1345, 1345, 939, 1575, 1250, 939, 945, 1345, 1139, 1009, 964, 1110, 945, 1009, 1110, 1309, 945, 945, 1250, 1030, 1009, 1030, 945, 939, 939, 964, 964, 1009, 1309, 968, 1009, 1345, 1560, 864, 1030, 1139, 1345, 1139, 1009, 1309, 1030, 1110, 1345, 1094, 1494, 1284, 1094, 968, 1250, 1094, 964, 1494, 1494, 1494, 1139, 1250, 1425, 1139, 1250, 1494, 1284, 1309, 1030, 1309, 1575, 1250, 1110, 1009, 1345, 1009, 939, 1494, 939, 1425, 1009, 1575, 939, 945, 1009, 1345, 864, 1250, 1250, 1139, 1250, 945, 1284, 1009, 964, 945, 1494, 964, 1425, 1575, 964, 1009, 1030, 1009, 1309, 1284, 1030, 1309, 1250, 1575, 945, 1139, 1009, 1425, 1139, 1009, 1139, 1009, 939, 1094, 1250, 964, 968, 1110, 939, 1494, 1009, 968, 968, 1284, 1009, 1094, 945, 968, 1284, 968, 939, 1309, 1139, 1250, 964, 1094, 1030, 1494, 945, 1250, 1250, 968, 1009, 1094, 1030, 1309, 1009, 1139, 1030, 1094, 964, 864, 1284, 1345, 1425, 1250, 945, 1110, 964, 1110, 964, 1139, 1345, 1030, 1139, 1030, 1110, 1575, 1250, 1575, 1250, 1094, 1309, 945, 1250, 864, 939, 1284, 1575, 1345, 1284, 1575, 1030, 1284, 1009, 1110, 1494, 1009, 1345, 1425, 1110, 945, 1284, 1009, 1309, 1094, 864, 1094, 1345, 1110, 1575, 1425, 1345, 1030, 964, 1009, 1030, 1309, 1284, 1250, 1309, 1575, 1094, 1030, 1009, 1345, 1139, 964, 864, 1250, 1250, 1575, 1009, 1575, 945, 1009, 1425, 1009, 1030, 1345, 1309, 1284, 1575, 1250, 1009, 1030, 1009, 864, 1009, 939, 1009, 1494, 1139, 1284, 1110, 964, 1309, 1250, 1009, 864, 1009, 1345, 1345, 964, 945, 1494, 964, 1494, 1009, 1009, 1284, 1030, 1494, 1110, 1575, 1425, 1309, 1284, 1250, 1009, 1345, 1009, 968, 1309, 1284, 1110, 939, 1139, 1110, 1250, 864, 1425, 1250, 1250, 968, 1110, 1009, 1110, 1345, 964, 1009, 1094, 1575, 1309, 1030, 1094, 1284, 1009, 864, 1094, 1575, 1009, 964, 1575, 1575, 1094, 939, 864, 1009, 1009, 864, 1309, 1139, 1425, 1345, 1030, 1345, 945, 1030, 1345, 1030, 1575, 1110, 1575, 1250, 1309, 1494, 1575, 1094, 1494, 964, 1094, 945, 964, 864, 964, 1094, 1284, 864, 1575, 1009, 1575, 964, 864, 939, 964, 1345, 1560, 1250, 1309, 1575, 1139, 968, 945, 1250, 1009, 864, 1094, 1139, 1494, 1494, 1110, 1309, 1345, 964, 1284, 1284, 1425, 945, 1284, 1250, 1009, 1284, 968, 964, 864, 1494, 1575, 1425, 1575, 1250, 1494, 1094, 964, 1139, 1094, 1110, 1284, 1139, 1030, 1494, 1425, 1309, 1425, 945, 1425, 945, 1425, 1425, 1284, 1284, 1425, 1345, 1575, 1110, 1425, 1494, 1425, 964, 968, 1094, 945, 1110, 1309, 968, 1575, 1030, 1284, 945, 964, 945, 1110, 1110, 1009, 1425, 864, 1250, 864, 1309, 1250, 945, 1309, 1575, 1575, 1094, 1575, 964, 1250, 1425, 1110, 945, 1494, 1009, 864, 1309, 1030, 964, 1345, 1309, 1009, 945, 1009, 864, 968, 1494, 1494, 1425, 1309, 1575, 1250, 1575, 964, 1309, 939, 1009, 964, 1494, 1009, 939, 939, 1009, 1494, 964, 1309, 1030, 968, 1110, 1094, 945, 1309, 939, 968, 1345, 1425, 1250, 939, 1030, 1009, 1425, 1250, 1094, 945, 1110, 1030, 939, 968, 864, 1425, 1110, 864, 1094, 1030, 1030, 864, 1345, 964, 1575, 1575, 864, 1139, 1575, 1494, 1494, 1425, 1139, 1094, 1425, 1139, 945, 1009, 968, 1030, 1110, 1139, 1110, 1139, 945, 1110, 1494, 1009, 1284, 939, 1425, 1139, 1494, 1345, 1345, 1110, 1425, 1425, 945, 1345, 1094, 1284, 1110, 1009, 1094, 1575, 1309, 968, 1575, 1110, 968, 864, 1009, 1425, 1009, 945, 1009, 964, 1250, 1309, 939, 968, 1494, 1030, 1345, 1009, 939, 964, 1494, 1345, 1494, 1030, 964, 1284, 939, 964, 1139, 1094, 1575, 1309, 1139, 1575, 1284, 1494, 968, 1250, 1110, 1030, 1575, 1250, 939, 945, 1110, 945, 1425, 1309, 1139, 1250, 968, 968, 1309, 945, 1250, 1110, 1110, 964, 939, 1030, 1494, 964, 939, 1284, 1284, 939, 1575, 1030, 1094, 1094, 1139, 1284, 1425, 1110, 1494, 1139, 939, 1494, 1284, 1250, 1425, 1425, 1139, 1139, 968, 1494, 1030, 1030, 1250, 1110, 1250, 939, 1009, 1345, 1250, 1250, 939, 1345, 1560, 1110, 1575, 1009, 939, 968, 968, 1009, 945, 1094, 1030, 968, 945, 939, 1139, 939, 1139, 1009, 1494, 1250, 1284, 1425, 939, 1284, 1425, 1284, 1425, 1425, 1250, 1250, 939, 1009, 1425, 864, 1009, 1309, 1110, 1425, 1009, 1345, 1009, 1309, 1250, 1030, 1309, 1110, 964, 939, 945, 1575, 1110, 964, 1030, 1284, 964, 1309, 968, 1094, 1425, 1345, 1284, 1284, 1094, 864, 1494, 1094, 1110, 939, 1009, 945, 864, 864, 1139, 1094, 1250, 1030, 1094, 1425, 1009, 1575, 864, 1009, 864, 939, 1309, 1139, 1030, 968, 1575, 1284, 1139, 1309, 939, 1009, 968, 945, 964, 1284, 1345, 1094, 1560, 1139, 864, 1345, 1139, 1009, 1009, 1009, 1139, 968, 1009, 1030, 1009, 864, 1575, 968, 1284, 864, 1030, 945, 1575, 1110, 1110, 945, 1094, 945, 1094, 964, 1284, 1494, 1110, 945, 1575, 864, 945, 1425, 1309, 1345, 1425, 1425, 1425, 1309, 1284, 1009, 1425, 1309, 1139, 1139, 1094, 1575, 1494, 1139, 939, 945, 1345, 1094, 964, 964, 1030, 864, 1309, 1009, 1094, 945, 864, 1009, 1094, 968, 1425, 1094, 1494, 1030, 1030, 864, 1284, 1030, 1250, 1284, 1575, 1009, 1575, 1009, 1139, 964, 1110, 1094, 1345, 1575, 864, 968, 968, 1575, 1110, 1575, 968, 1575, 1250, 964, 1139, 968, 964, 1425, 1575, 1309, 1425, 1284, 1094, 939, 1309, 1309, 964, 1425, 1284, 1309, 1009, 1110, 964, 1345, 1250, 1030, 945, 968, 964, 1094, 1575, 968, 1094, 1494, 939, 945, 1284, 1284, 864, 1250, 1284, 1345, 1345, 1494, 945, 864, 1284, 1110, 964, 1345, 968, 968, 1030, 1030, 1139, 1309, 1250, 1575, 1284, 1575, 1094, 1030, 1284, 1309, 1345, 864, 964, 1309, 1309, 1250, 1250, 1009, 1575, 945, 864, 1284, 1284, 1030, 1494, 1139, 864, 1139, 1030, 1009, 1030, 945, 939, 964, 1009, 1009, 964, 964, 1425, 1094, 1030, 1110, 1110, 1110, 1284, 1284, 1494, 1309, 964, 1110, 1139, 1494, 1030, 1250, 1284, 1094, 964, 964, 1110, 1250, 1009, 1284, 1139, 864, 1094, 964, 1345, 1030, 1345, 1425, 1009, 1250, 1110, 1110, 1494, 939, 968, 1110, 1575, 1110, 1494, 1009, 945, 964, 1284, 964, 945, 939, 1250, 939, 945, 1030, 1009, 1494, 1284, 1575, 1309, 1309, 1345, 1250, 1309, 1009, 1110, 1425, 1030, 1009, 939, 1139, 1345, 1009, 1139, 1575, 864, 1094, 1250, 1284, 1139, 1009, 945, 1284, 1494, 1110, 1139, 1110, 939, 1009, 1110, 1575, 1345, 1345, 945, 964, 964, 1030, 964, 968, 1139, 964, 1009, 1494, 1345, 1009, 1009, 864, 1494, 1094, 1309, 1009, 945, 864, 1009, 1110, 1345, 1030, 1139, 939, 1009, 1284, 1250, 1309, 1030, 1009, 1575, 964, 1030, 945, 939, 964, 1309, 1030, 1345, 1094, 945, 1139, 1094, 1139, 1575, 945, 1345, 1110, 1575, 1309, 1009, 945, 964, 1009, 1494, 1250, 1284, 1009, 1250, 1284, 1009, 1009, 945, 1110, 1009, 1094, 864, 1345, 1284, 1284, 1094, 1575, 1560, 1009, 1139, 1009, 1250, 864, 1284, 1094, 945, 1030, 964, 1284, 1110, 1345, 1309, 1009, 1575, 1345, 1030, 1139, 1110, 964, 1094, 1110, 1309, 1009, 1575, 1575, 939, 864, 939, 1094, 1139, 1425, 1009, 864, 1094, 1575, 1425, 939, 1575, 1094, 964, 1575, 1009, 1494, 1009, 864, 968, 1494, 1425, 1284, 1250, 964, 1094, 1250, 945, 1110, 964, 1094, 945, 964, 1009, 1284, 1250, 1009, 864, 968, 939, 939, 968, 864, 1284, 964, 1139, 1309, 939, 945, 964, 1309, 1009, 968, 945, 939, 1009, 1575, 1284, 1250, 1560, 1575, 1009, 1345, 1110, 1494, 1575, 1250, 1139, 864, 1030, 864, 968, 1575, 1030, 1284, 1575, 968, 1250, 1284, 1110, 1094, 939, 1009, 1030, 1030, 964, 1494, 1110, 939, 1494, 1030, 1139, 864, 1094, 1009, 1139, 945, 1309, 939, 1009, 1110, 1575, 1309, 1284, 945, 1284, 1309, 1309, 968, 1094, 945, 964, 1009, 968, 1250, 1009, 945, 1030, 964, 1094, 964, 1250, 1139, 945, 1094, 939, 1250, 1139, 1030, 1284, 1309, 1575, 1494, 1575, 1139, 1030, 1139, 1575, 1110, 1494, 1284, 1284, 1009, 968, 1284, 1345, 968, 1425, 864, 1309, 1009, 864, 1309, 1009, 1250, 1110, 1575, 945, 1345, 1139, 1110, 1094, 1094, 1110, 1030, 945, 1309, 964, 864, 1345, 1094, 1094, 1009, 1345, 1139, 1009, 968, 1094, 1139, 939, 1309, 1139, 964, 945, 1009, 1009, 1345, 1110, 1309, 1009, 939, 1284, 1425, 1345, 1309, 1139, 1425, 1494, 1009, 968, 945, 1309, 1139, 1139, 968, 1425, 939, 1309, 1494, 1110, 1110, 1575, 1309, 1110, 1575, 1009, 1575, 1030, 1094, 1309, 968, 945, 1284, 1009, 1009, 1345, 1009, 1094, 939, 1425, 1425, 1139, 1345, 1425, 1494, 1284, 1009, 964, 1345, 945, 1575, 1110, 964, 1309, 1110, 1250, 1494, 945, 1030, 1009, 1009, 1009, 1094, 1309, 964, 864, 1575, 1425, 1309, 945, 945, 1094, 1575, 1309, 1110, 1425, 1309, 1094, 1139, 939, 1009, 1494, 1284, 1425, 968, 1309, 1250, 1110, 1030, 1345, 1309, 1009, 1250, 1110, 1425, 1094, 864, 1250, 1425, 1139, 1425, 964, 1094, 1009, 1009, 1094, 1309, 1009, 945, 1425, 1250, 1284, 1094, 1425, 1284, 1345, 1030, 1284, 1094, 945, 945, 1575, 1425, 1139, 864, 1575, 1030, 1345, 1425, 1139, 1575, 864, 1030, 1009, 1494, 1425, 964, 964, 1560, 945, 964, 1345, 1030, 968, 945, 1494, 1139, 1009, 1110, 1110, 1575, 1009, 1110, 1094, 939, 1094, 1345, 1094, 1284, 1009, 1284, 864, 1009, 1425, 1284, 1575, 1139, 1284, 1250, 1345, 1094, 1030, 939, 1494, 1030, 1309, 1250, 945, 945, 1284, 945, 1030, 1009, 1009, 864, 968, 1009, 1139, 1250, 1009, 945, 1009, 939, 1009, 1094, 1345, 1110, 939, 1575, 1309, 1094, 968, 1094, 939, 864, 939, 1284, 1250, 945, 1494, 1494, 1094, 864, 1250, 864, 1345, 964, 1345, 1425, 1094, 1309, 945, 864, 1575, 1494, 1284, 1284, 1284, 964, 1030, 1425, 1094, 968, 1250, 1494, 1575, 1030, 1030, 1009, 939, 1110, 1284, 1009, 1030, 1345, 1425, 945, 1009, 1009, 864, 939, 1345, 968, 1309, 1139, 1250, 1575, 1250, 1110, 1494, 1030, 1030, 1139, 1009, 945, 1009, 864, 945, 1009, 1284, 1425, 1345, 1139, 1094, 1009, 1575, 945, 1139, 1009, 1250, 1560, 1110, 945, 964, 1009, 1094, 1284, 1425, 1009, 964, 1250, 1575, 1139, 968, 939, 1560, 1139, 1139, 1009, 1110, 1009, 1575, 1250, 964, 1494, 1309, 964, 1009, 1494, 1110, 1009, 1575, 1250, 939, 1030, 1284, 968, 1009, 1094, 1139, 1284, 1094, 1575, 864, 1110, 1345, 1425, 1560, 864, 1575, 1030, 1250, 1030, 945, 964, 1345, 1250, 1345, 1094, 1309, 1094, 1009, 1284, 864, 1494, 945, 1139, 1494, 1009, 964, 1110, 945, 1494, 1110, 1009, 1345, 1309, 1110, 1139, 1575, 1284, 1139, 1009, 1494, 1345, 1110, 964, 1345, 864, 1139, 1425, 964, 864, 1345, 1139, 1284, 1284, 1494, 1309, 1425, 864, 1284, 1094, 968, 1494, 1030, 1345, 1425, 1345, 1094, 964, 864, 1309, 1345, 939, 1575, 1425, 939, 1250, 1139, 945, 864, 1494, 968, 939, 939, 1284, 1494, 1575, 1139, 1309, 1250, 1345, 1094, 1030, 864, 945, 1250, 1345, 1425, 1094, 1030, 1494, 1309, 1494, 1139, 1009, 1345, 1094, 1030, 1250, 1009, 945, 945, 964, 864, 1009, 1009, 1345, 864, 1139, 1284, 945, 1425, 1030, 1009, 1030, 1425, 939, 1575, 1009, 1009, 1309, 1494, 1309, 939, 1560, 1494, 1284, 1030, 1030, 1575, 1009, 964, 1009, 1284, 1030, 1494, 1009, 1284, 1284, 968, 1009, 1284, 945, 1494, 1425, 1284, 1425, 1345, 1309, 1250, 1009, 1494, 1009, 1345, 1494, 864, 1250, 1139, 1425, 864, 1250, 864, 1009, 1425, 1284]\n"
          ]
        }
      ]
    },
    {
      "cell_type": "code",
      "source": [
        "final_rmse"
      ],
      "metadata": {
        "colab": {
          "base_uri": "https://localhost:8080/"
        },
        "id": "5TbvRCxe44wm",
        "outputId": "9b47a1a6-61e4-40d7-b4a5-866cd6fe2c70"
      },
      "execution_count": null,
      "outputs": [
        {
          "output_type": "execute_result",
          "data": {
            "text/plain": [
              "4.12750754534844"
            ]
          },
          "metadata": {},
          "execution_count": 54
        }
      ]
    },
    {
      "cell_type": "code",
      "source": [
        "prepared_data[4] "
      ],
      "metadata": {
        "colab": {
          "base_uri": "https://localhost:8080/"
        },
        "id": "_qdb6xR047Zc",
        "outputId": "bef7fc74-e877-46c1-c705-f288db136cd2"
      },
      "execution_count": null,
      "outputs": [
        {
          "output_type": "execute_result",
          "data": {
            "text/plain": [
              "array([-0.07192997,  0.15490956, -1.18826204, -1.08896724,  1.90601146,\n",
              "       -0.71542727, -0.20166285])"
            ]
          },
          "metadata": {},
          "execution_count": 55
        }
      ]
    },
    {
      "cell_type": "code",
      "source": [
        "from joblib import dump, load\n",
        "import numpy as np\n",
        "model = load('data')\n",
        "features = np.array([[-0.07192997,  0.15490956, -1.18826204, -1.08896724,  1.90601146,\n",
        "       -0.71542727, -0.20166285]])\n",
        "model.predict(features)"
      ],
      "metadata": {
        "colab": {
          "base_uri": "https://localhost:8080/"
        },
        "id": "u4aQUkkr4-cn",
        "outputId": "5130a6d5-4d43-4c68-ec85-b3ac155a9f0a"
      },
      "execution_count": null,
      "outputs": [
        {
          "output_type": "execute_result",
          "data": {
            "text/plain": [
              "array([939.])"
            ]
          },
          "metadata": {},
          "execution_count": 56
        }
      ]
    },
    {
      "cell_type": "code",
      "source": [
        "##import pandas as pd\n",
        "import csv\n",
        "import pandas as pd\n",
        "import io\n",
        "import matplotlib.pyplot as plt\n",
        "import numpy as np\n",
        "from sklearn.model_selection import train_test_split\n",
        "from sklearn.model_selection import StratifiedShuffleSplit\n",
        "from pandas.plotting import scatter_matrix\n",
        "from sklearn.impute import SimpleImputer\n",
        "from sklearn.pipeline import Pipeline\n",
        "from sklearn.preprocessing import StandardScaler\n",
        "from sklearn.linear_model import LinearRegression\n",
        "from sklearn.tree import DecisionTreeRegressor\n",
        "from sklearn.ensemble import RandomForestRegressor\n",
        "from sklearn.svm import SVC\n",
        "from sklearn.metrics import mean_squared_error\n",
        "from joblib import dump, load\n"
      ],
      "metadata": {
        "id": "JUzqepD15DqB"
      },
      "execution_count": null,
      "outputs": []
    }
  ]
}